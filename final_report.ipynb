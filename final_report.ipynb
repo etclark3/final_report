{
 "cells": [
  {
   "cell_type": "markdown",
   "id": "772d1d2b",
   "metadata": {},
   "source": [
    "<img src=\"https://encrypted-tbn0.gstatic.com/images?q=tbn:ANd9GcTu8IayzMrmGKgbnT0hGkk6k7FhiK1ICbTNUA&usqp=CAU\" />"
   ]
  },
  {
   "cell_type": "code",
   "execution_count": 5,
   "id": "d9cd234d",
   "metadata": {},
   "outputs": [],
   "source": [
    "import os\n",
    "from acquire import test, grab_telco, prep_t, telco_test, split\n",
    "from env import username, password, host\n",
    "import numpy as np\n",
    "import pandas as pd\n",
    "import seaborn as sns\n",
    "import matplotlib.pyplot as plt\n",
    "import scipy.stats as stats\n",
    "\n",
    "import warnings\n",
    "warnings.filterwarnings('ignore')\n",
    "\n",
    "import sklearn.metrics as mtc\n",
    "from sklearn.metrics import classification_report, confusion_matrix, accuracy_score, recall_score, precision_score, f1_score\n",
    "from sklearn.tree import DecisionTreeClassifier, plot_tree\n",
    "from sklearn.ensemble import RandomForestClassifier\n",
    "from sklearn.neighbors import KNeighborsClassifier\n",
    "from sklearn.linear_model import LogisticRegression"
   ]
  },
  {
   "cell_type": "markdown",
   "id": "0ebd86a9",
   "metadata": {},
   "source": [
    "<div class=\"alert alert-block alert-success\">\n",
    "    \n",
    "# Business Goals\n",
    "## - Find drivers for customer churn at Telco. Why are customers churning?\n",
    "## - Construct a Machine Learning classification model that accurately predicts customer churn.\n",
    "## - Deliver a report that a non-data scientist can read through and understand what steps were taken, why and what was the outcome?"
   ]
  },
  {
   "cell_type": "markdown",
   "id": "5a9f99df",
   "metadata": {},
   "source": [
    "<div class=\"alert alert-block alert-info\">\n",
    "    \n",
    "# Initial Questions:\n",
    "### Are certain groups (age, gender, etc.) of customers unsatisfied with our service?\n",
    "\n",
    "### Do we offer products/services(internet types) that do not meet expectations?\n",
    "\n",
    "### Are we charging too much?\n",
    "\n",
    "### Do we lack customer support?\n",
    "\n",
    "### Do we need to put more focus on the types of contracts we offer for customers?"
   ]
  },
  {
   "cell_type": "markdown",
   "id": "8347b774",
   "metadata": {},
   "source": [
    "# Acquire and view the data\n",
    ">We will grab this data from the telco.csv file"
   ]
  },
  {
   "cell_type": "code",
   "execution_count": 6,
   "id": "9491facf",
   "metadata": {},
   "outputs": [
    {
     "data": {
      "text/html": [
       "<div>\n",
       "<style scoped>\n",
       "    .dataframe tbody tr th:only-of-type {\n",
       "        vertical-align: middle;\n",
       "    }\n",
       "\n",
       "    .dataframe tbody tr th {\n",
       "        vertical-align: top;\n",
       "    }\n",
       "\n",
       "    .dataframe thead th {\n",
       "        text-align: right;\n",
       "    }\n",
       "</style>\n",
       "<table border=\"1\" class=\"dataframe\">\n",
       "  <thead>\n",
       "    <tr style=\"text-align: right;\">\n",
       "      <th></th>\n",
       "      <th>Unnamed: 0</th>\n",
       "      <th>customer_id</th>\n",
       "      <th>gender</th>\n",
       "      <th>senior_citizen</th>\n",
       "      <th>partner</th>\n",
       "      <th>dependents</th>\n",
       "      <th>tenure</th>\n",
       "      <th>phone_service</th>\n",
       "      <th>multiple_lines</th>\n",
       "      <th>internet_service_type_id</th>\n",
       "      <th>...</th>\n",
       "      <th>device_protection</th>\n",
       "      <th>tech_support</th>\n",
       "      <th>streaming_tv</th>\n",
       "      <th>streaming_movies</th>\n",
       "      <th>contract_type_id</th>\n",
       "      <th>paperless_billing</th>\n",
       "      <th>payment_type_id</th>\n",
       "      <th>monthly_charges</th>\n",
       "      <th>total_charges</th>\n",
       "      <th>churn</th>\n",
       "    </tr>\n",
       "  </thead>\n",
       "  <tbody>\n",
       "    <tr>\n",
       "      <th>0</th>\n",
       "      <td>0</td>\n",
       "      <td>0002-ORFBO</td>\n",
       "      <td>Female</td>\n",
       "      <td>0</td>\n",
       "      <td>Yes</td>\n",
       "      <td>Yes</td>\n",
       "      <td>9</td>\n",
       "      <td>Yes</td>\n",
       "      <td>No</td>\n",
       "      <td>1</td>\n",
       "      <td>...</td>\n",
       "      <td>No</td>\n",
       "      <td>Yes</td>\n",
       "      <td>Yes</td>\n",
       "      <td>No</td>\n",
       "      <td>2</td>\n",
       "      <td>Yes</td>\n",
       "      <td>2</td>\n",
       "      <td>65.6</td>\n",
       "      <td>593.3</td>\n",
       "      <td>No</td>\n",
       "    </tr>\n",
       "    <tr>\n",
       "      <th>1</th>\n",
       "      <td>1</td>\n",
       "      <td>0003-MKNFE</td>\n",
       "      <td>Male</td>\n",
       "      <td>0</td>\n",
       "      <td>No</td>\n",
       "      <td>No</td>\n",
       "      <td>9</td>\n",
       "      <td>Yes</td>\n",
       "      <td>Yes</td>\n",
       "      <td>1</td>\n",
       "      <td>...</td>\n",
       "      <td>No</td>\n",
       "      <td>No</td>\n",
       "      <td>No</td>\n",
       "      <td>Yes</td>\n",
       "      <td>1</td>\n",
       "      <td>No</td>\n",
       "      <td>2</td>\n",
       "      <td>59.9</td>\n",
       "      <td>542.4</td>\n",
       "      <td>No</td>\n",
       "    </tr>\n",
       "    <tr>\n",
       "      <th>2</th>\n",
       "      <td>2</td>\n",
       "      <td>0004-TLHLJ</td>\n",
       "      <td>Male</td>\n",
       "      <td>0</td>\n",
       "      <td>No</td>\n",
       "      <td>No</td>\n",
       "      <td>4</td>\n",
       "      <td>Yes</td>\n",
       "      <td>No</td>\n",
       "      <td>2</td>\n",
       "      <td>...</td>\n",
       "      <td>Yes</td>\n",
       "      <td>No</td>\n",
       "      <td>No</td>\n",
       "      <td>No</td>\n",
       "      <td>1</td>\n",
       "      <td>Yes</td>\n",
       "      <td>1</td>\n",
       "      <td>73.9</td>\n",
       "      <td>280.85</td>\n",
       "      <td>Yes</td>\n",
       "    </tr>\n",
       "    <tr>\n",
       "      <th>3</th>\n",
       "      <td>3</td>\n",
       "      <td>0011-IGKFF</td>\n",
       "      <td>Male</td>\n",
       "      <td>1</td>\n",
       "      <td>Yes</td>\n",
       "      <td>No</td>\n",
       "      <td>13</td>\n",
       "      <td>Yes</td>\n",
       "      <td>No</td>\n",
       "      <td>2</td>\n",
       "      <td>...</td>\n",
       "      <td>Yes</td>\n",
       "      <td>No</td>\n",
       "      <td>Yes</td>\n",
       "      <td>Yes</td>\n",
       "      <td>1</td>\n",
       "      <td>Yes</td>\n",
       "      <td>1</td>\n",
       "      <td>98.0</td>\n",
       "      <td>1237.85</td>\n",
       "      <td>Yes</td>\n",
       "    </tr>\n",
       "    <tr>\n",
       "      <th>4</th>\n",
       "      <td>4</td>\n",
       "      <td>0013-EXCHZ</td>\n",
       "      <td>Female</td>\n",
       "      <td>1</td>\n",
       "      <td>Yes</td>\n",
       "      <td>No</td>\n",
       "      <td>3</td>\n",
       "      <td>Yes</td>\n",
       "      <td>No</td>\n",
       "      <td>2</td>\n",
       "      <td>...</td>\n",
       "      <td>No</td>\n",
       "      <td>Yes</td>\n",
       "      <td>Yes</td>\n",
       "      <td>No</td>\n",
       "      <td>1</td>\n",
       "      <td>Yes</td>\n",
       "      <td>2</td>\n",
       "      <td>83.9</td>\n",
       "      <td>267.4</td>\n",
       "      <td>Yes</td>\n",
       "    </tr>\n",
       "  </tbody>\n",
       "</table>\n",
       "<p>5 rows × 22 columns</p>\n",
       "</div>"
      ],
      "text/plain": [
       "   Unnamed: 0 customer_id  gender  senior_citizen partner dependents  tenure  \\\n",
       "0           0  0002-ORFBO  Female               0     Yes        Yes       9   \n",
       "1           1  0003-MKNFE    Male               0      No         No       9   \n",
       "2           2  0004-TLHLJ    Male               0      No         No       4   \n",
       "3           3  0011-IGKFF    Male               1     Yes         No      13   \n",
       "4           4  0013-EXCHZ  Female               1     Yes         No       3   \n",
       "\n",
       "  phone_service multiple_lines  internet_service_type_id  ...  \\\n",
       "0           Yes             No                         1  ...   \n",
       "1           Yes            Yes                         1  ...   \n",
       "2           Yes             No                         2  ...   \n",
       "3           Yes             No                         2  ...   \n",
       "4           Yes             No                         2  ...   \n",
       "\n",
       "  device_protection tech_support streaming_tv streaming_movies  \\\n",
       "0                No          Yes          Yes               No   \n",
       "1                No           No           No              Yes   \n",
       "2               Yes           No           No               No   \n",
       "3               Yes           No          Yes              Yes   \n",
       "4                No          Yes          Yes               No   \n",
       "\n",
       "  contract_type_id paperless_billing  payment_type_id monthly_charges  \\\n",
       "0                2               Yes                2            65.6   \n",
       "1                1                No                2            59.9   \n",
       "2                1               Yes                1            73.9   \n",
       "3                1               Yes                1            98.0   \n",
       "4                1               Yes                2            83.9   \n",
       "\n",
       "   total_charges  churn  \n",
       "0          593.3     No  \n",
       "1          542.4     No  \n",
       "2         280.85    Yes  \n",
       "3        1237.85    Yes  \n",
       "4          267.4    Yes  \n",
       "\n",
       "[5 rows x 22 columns]"
      ]
     },
     "execution_count": 6,
     "metadata": {},
     "output_type": "execute_result"
    }
   ],
   "source": [
    "telco = grab_telco()\n",
    "telco.head()"
   ]
  },
  {
   "cell_type": "markdown",
   "id": "3fc8e1e4",
   "metadata": {},
   "source": [
    "# Look at the column(feature) Dtypes and check for cells with no values (nulls)"
   ]
  },
  {
   "cell_type": "code",
   "execution_count": 7,
   "id": "4e66f696",
   "metadata": {
    "scrolled": true
   },
   "outputs": [
    {
     "name": "stdout",
     "output_type": "stream",
     "text": [
      "<class 'pandas.core.frame.DataFrame'>\n",
      "RangeIndex: 7043 entries, 0 to 7042\n",
      "Data columns (total 22 columns):\n",
      " #   Column                    Non-Null Count  Dtype  \n",
      "---  ------                    --------------  -----  \n",
      " 0   Unnamed: 0                7043 non-null   int64  \n",
      " 1   customer_id               7043 non-null   object \n",
      " 2   gender                    7043 non-null   object \n",
      " 3   senior_citizen            7043 non-null   int64  \n",
      " 4   partner                   7043 non-null   object \n",
      " 5   dependents                7043 non-null   object \n",
      " 6   tenure                    7043 non-null   int64  \n",
      " 7   phone_service             7043 non-null   object \n",
      " 8   multiple_lines            7043 non-null   object \n",
      " 9   internet_service_type_id  7043 non-null   int64  \n",
      " 10  online_security           7043 non-null   object \n",
      " 11  online_backup             7043 non-null   object \n",
      " 12  device_protection         7043 non-null   object \n",
      " 13  tech_support              7043 non-null   object \n",
      " 14  streaming_tv              7043 non-null   object \n",
      " 15  streaming_movies          7043 non-null   object \n",
      " 16  contract_type_id          7043 non-null   int64  \n",
      " 17  paperless_billing         7043 non-null   object \n",
      " 18  payment_type_id           7043 non-null   int64  \n",
      " 19  monthly_charges           7043 non-null   float64\n",
      " 20  total_charges             7043 non-null   object \n",
      " 21  churn                     7043 non-null   object \n",
      "dtypes: float64(1), int64(6), object(15)\n",
      "memory usage: 1.2+ MB\n"
     ]
    }
   ],
   "source": [
    "telco.info()"
   ]
  },
  {
   "cell_type": "markdown",
   "id": "1b639395",
   "metadata": {},
   "source": [
    "---"
   ]
  },
  {
   "cell_type": "markdown",
   "id": "917bb2dd",
   "metadata": {},
   "source": [
    "# Prep the data\n",
    ">**Create dummy variables for modeling purposes<br>\n",
    "(1: 'Yes', 0: 'No')**"
   ]
  },
  {
   "cell_type": "code",
   "execution_count": 8,
   "id": "12a10246",
   "metadata": {},
   "outputs": [],
   "source": [
    "telco = prep_t(telco)"
   ]
  },
  {
   "cell_type": "code",
   "execution_count": 9,
   "id": "5cc02921",
   "metadata": {},
   "outputs": [
    {
     "data": {
      "text/html": [
       "<div>\n",
       "<style scoped>\n",
       "    .dataframe tbody tr th:only-of-type {\n",
       "        vertical-align: middle;\n",
       "    }\n",
       "\n",
       "    .dataframe tbody tr th {\n",
       "        vertical-align: top;\n",
       "    }\n",
       "\n",
       "    .dataframe thead th {\n",
       "        text-align: right;\n",
       "    }\n",
       "</style>\n",
       "<table border=\"1\" class=\"dataframe\">\n",
       "  <thead>\n",
       "    <tr style=\"text-align: right;\">\n",
       "      <th></th>\n",
       "      <th>customer_id</th>\n",
       "      <th>senior_citizen</th>\n",
       "      <th>tenure</th>\n",
       "      <th>internet_service_type_id</th>\n",
       "      <th>contract_type_id</th>\n",
       "      <th>payment_type_id</th>\n",
       "      <th>monthly_charges</th>\n",
       "      <th>total_charges</th>\n",
       "      <th>streaming_tv_Yes</th>\n",
       "      <th>streaming_movies_Yes</th>\n",
       "      <th>...</th>\n",
       "      <th>churn_Yes</th>\n",
       "      <th>gender_Male</th>\n",
       "      <th>partner_Yes</th>\n",
       "      <th>dependents_Yes</th>\n",
       "      <th>phone_service_Yes</th>\n",
       "      <th>online_backup_Yes</th>\n",
       "      <th>device_protection_Yes</th>\n",
       "      <th>tech_support_Yes</th>\n",
       "      <th>online_security_Yes</th>\n",
       "      <th>multiple_lines_Yes</th>\n",
       "    </tr>\n",
       "  </thead>\n",
       "  <tbody>\n",
       "    <tr>\n",
       "      <th>0</th>\n",
       "      <td>0002-ORFBO</td>\n",
       "      <td>0</td>\n",
       "      <td>9</td>\n",
       "      <td>1</td>\n",
       "      <td>2</td>\n",
       "      <td>2</td>\n",
       "      <td>65.6</td>\n",
       "      <td>593.3</td>\n",
       "      <td>1</td>\n",
       "      <td>0</td>\n",
       "      <td>...</td>\n",
       "      <td>0</td>\n",
       "      <td>0</td>\n",
       "      <td>1</td>\n",
       "      <td>1</td>\n",
       "      <td>1</td>\n",
       "      <td>1</td>\n",
       "      <td>0</td>\n",
       "      <td>1</td>\n",
       "      <td>0</td>\n",
       "      <td>0</td>\n",
       "    </tr>\n",
       "    <tr>\n",
       "      <th>1</th>\n",
       "      <td>0003-MKNFE</td>\n",
       "      <td>0</td>\n",
       "      <td>9</td>\n",
       "      <td>1</td>\n",
       "      <td>1</td>\n",
       "      <td>2</td>\n",
       "      <td>59.9</td>\n",
       "      <td>542.4</td>\n",
       "      <td>0</td>\n",
       "      <td>1</td>\n",
       "      <td>...</td>\n",
       "      <td>0</td>\n",
       "      <td>1</td>\n",
       "      <td>0</td>\n",
       "      <td>0</td>\n",
       "      <td>1</td>\n",
       "      <td>0</td>\n",
       "      <td>0</td>\n",
       "      <td>0</td>\n",
       "      <td>0</td>\n",
       "      <td>1</td>\n",
       "    </tr>\n",
       "    <tr>\n",
       "      <th>2</th>\n",
       "      <td>0004-TLHLJ</td>\n",
       "      <td>0</td>\n",
       "      <td>4</td>\n",
       "      <td>2</td>\n",
       "      <td>1</td>\n",
       "      <td>1</td>\n",
       "      <td>73.9</td>\n",
       "      <td>280.85</td>\n",
       "      <td>0</td>\n",
       "      <td>0</td>\n",
       "      <td>...</td>\n",
       "      <td>1</td>\n",
       "      <td>1</td>\n",
       "      <td>0</td>\n",
       "      <td>0</td>\n",
       "      <td>1</td>\n",
       "      <td>0</td>\n",
       "      <td>1</td>\n",
       "      <td>0</td>\n",
       "      <td>0</td>\n",
       "      <td>0</td>\n",
       "    </tr>\n",
       "  </tbody>\n",
       "</table>\n",
       "<p>3 rows × 21 columns</p>\n",
       "</div>"
      ],
      "text/plain": [
       "  customer_id  senior_citizen  tenure  internet_service_type_id  \\\n",
       "0  0002-ORFBO               0       9                         1   \n",
       "1  0003-MKNFE               0       9                         1   \n",
       "2  0004-TLHLJ               0       4                         2   \n",
       "\n",
       "   contract_type_id  payment_type_id  monthly_charges total_charges  \\\n",
       "0                 2                2             65.6         593.3   \n",
       "1                 1                2             59.9         542.4   \n",
       "2                 1                1             73.9        280.85   \n",
       "\n",
       "   streaming_tv_Yes  streaming_movies_Yes  ...  churn_Yes  gender_Male  \\\n",
       "0                 1                     0  ...          0            0   \n",
       "1                 0                     1  ...          0            1   \n",
       "2                 0                     0  ...          1            1   \n",
       "\n",
       "   partner_Yes  dependents_Yes  phone_service_Yes  online_backup_Yes  \\\n",
       "0            1               1                  1                  1   \n",
       "1            0               0                  1                  0   \n",
       "2            0               0                  1                  0   \n",
       "\n",
       "   device_protection_Yes  tech_support_Yes  online_security_Yes  \\\n",
       "0                      0                 1                    0   \n",
       "1                      0                 0                    0   \n",
       "2                      1                 0                    0   \n",
       "\n",
       "   multiple_lines_Yes  \n",
       "0                   0  \n",
       "1                   1  \n",
       "2                   0  \n",
       "\n",
       "[3 rows x 21 columns]"
      ]
     },
     "execution_count": 9,
     "metadata": {},
     "output_type": "execute_result"
    }
   ],
   "source": [
    "telco.head(3)"
   ]
  },
  {
   "cell_type": "markdown",
   "id": "b53681ce",
   "metadata": {},
   "source": [
    "## Separate Customer ID and Total Charges from the data. \n",
    ">**The feature is not needed to run tests, but I'd like to still keep it.<br>\n",
    "<br>\n",
    "I do not believe Total Charges will aid in the prediction of churn based on how it is defined(the amount of charges over a customers lifetime with Telco**."
   ]
  },
  {
   "cell_type": "code",
   "execution_count": null,
   "id": "781097f2",
   "metadata": {
    "scrolled": true
   },
   "outputs": [],
   "source": [
    "customers = telco[['customer_id', 'total_charges']]\n",
    "customers.head()"
   ]
  },
  {
   "cell_type": "markdown",
   "id": "47bf895a",
   "metadata": {},
   "source": [
    "## ... And then make sure the dataset reflects that change"
   ]
  },
  {
   "cell_type": "code",
   "execution_count": null,
   "id": "fde8d502",
   "metadata": {
    "scrolled": true
   },
   "outputs": [],
   "source": [
    "telco = telco.loc[:, telco.columns != 'total_charges']\n",
    "telco.head()"
   ]
  },
  {
   "cell_type": "markdown",
   "id": "059cd19f",
   "metadata": {},
   "source": [
    "### Now all features are numerical values"
   ]
  },
  {
   "cell_type": "markdown",
   "id": "ec1c71c3",
   "metadata": {},
   "source": [
    "## Additionally, I want to make sure I don't forget what each value represents for the categorical data:\n",
    "\n",
    "### Internet Service Type:\n",
    "> 1. DSL\n",
    "2. Fiber Optic\n",
    "3. None\n",
    "\n",
    "### Payment Type: \n",
    "> 1. Electronic check\n",
    "2. Mailed check\n",
    "3. Bank Transfer\n",
    "4. CC\n",
    "\n",
    "### Contract Type: \n",
    "> 1. Month-to-Month\n",
    "2. One-year\n",
    "3. Two-year"
   ]
  },
  {
   "cell_type": "markdown",
   "id": "c247dcc0",
   "metadata": {},
   "source": [
    "---"
   ]
  },
  {
   "cell_type": "markdown",
   "id": "ef74e70b",
   "metadata": {},
   "source": [
    "# I ran statistical tests on the whole dataset to give initial direction"
   ]
  },
  {
   "cell_type": "code",
   "execution_count": null,
   "id": "794a6e3d",
   "metadata": {},
   "outputs": [],
   "source": [
    "telco_test(telco)"
   ]
  },
  {
   "cell_type": "markdown",
   "id": "3381099c",
   "metadata": {},
   "source": [
    "<div class=\"alert alert-block alert-success\">\n",
    "    \n",
    "## For now, I want to focus on:\n",
    "**Internet Service Type:**<br>\n",
    "> Fiber Optic reprsents almost half of customers, yet churn at over twice the rate of other internet types.<br>\n",
    "\n",
    "**Online Backup:**<br>\n",
    "> The population without online back is twice as large as those who do, yet churn 10% more.\n",
    "\n",
    "**Device Protection:**<br>\n",
    "> 2/3 of customer don't have device protection and churn more often that those who do, it could be beneficial to target them.\n",
    "\n",
    "**Tech Support:**<br>\n",
    "> Almost 3/4 of customers don't utilize Tech Support and churn twice as often as those who do\n",
    "\n",
    "**Online Security:**<br>\n",
    "> Over 70% of customer do not have Online security yet churn twice as fast as those who do.\n",
    "\n",
    "**Payment Type:**\n",
    "> Electronic Check payments churn at almost 2.5x the rate of any other payment method and represent a third of all customers.\n",
    "    \n",
    "**Age:**<br>\n",
    "> Senior Citizens are twice as likely to churn than their younger counter parts.\n",
    "\n",
    "**Tenure:**<br>\n",
    "> It's clear that long-term customers are less and less likely to churn over time.\n",
    "\n"
   ]
  },
  {
   "cell_type": "markdown",
   "id": "8978841f",
   "metadata": {},
   "source": [
    "### I chose these features based on the statistical relationship coupled with the proportion of each features 'Yes' or 'No'\n",
    "### I decided against using the rest of the features due to either lack of relationship or other factors that cannot be controlled\n",
    "> **Example**: Dependents, those with no dependents churn at twice the rate of those who do have dependents, but that does not indicate the reason thye do so."
   ]
  },
  {
   "cell_type": "markdown",
   "id": "e304005f",
   "metadata": {},
   "source": [
    "# Focus on those features"
   ]
  },
  {
   "cell_type": "code",
   "execution_count": null,
   "id": "f109d1a2",
   "metadata": {
    "scrolled": false
   },
   "outputs": [],
   "source": [
    "telco = telco[['customer_id', \n",
    "               'internet_service_type_id',\n",
    "               'payment_type_id',\n",
    "               'tenure',\n",
    "               'paperless_billing_Yes',\n",
    "               'churn_Yes',\n",
    "               'phone_service_Yes',\n",
    "               'online_backup_Yes',\n",
    "               'tech_support_Yes',\n",
    "               'online_security_Yes']]\n",
    "telco.head(3)"
   ]
  },
  {
   "cell_type": "markdown",
   "id": "4c8f000f",
   "metadata": {},
   "source": [
    "---"
   ]
  },
  {
   "cell_type": "markdown",
   "id": "7e57bbdf",
   "metadata": {},
   "source": [
    "# Baseline\n",
    ">**Establish the baseline rate of Churn**"
   ]
  },
  {
   "cell_type": "code",
   "execution_count": null,
   "id": "86fa2eec",
   "metadata": {
    "scrolled": true
   },
   "outputs": [],
   "source": [
    "telco.churn_Yes.mean()"
   ]
  },
  {
   "cell_type": "markdown",
   "id": "be23c2d1",
   "metadata": {},
   "source": [
    "---"
   ]
  },
  {
   "cell_type": "markdown",
   "id": "cb342078",
   "metadata": {},
   "source": [
    "# Understand how the data is shaped to make sure it is properly split in Train, Validate, and Test"
   ]
  },
  {
   "cell_type": "code",
   "execution_count": null,
   "id": "d3d3b177",
   "metadata": {
    "scrolled": false
   },
   "outputs": [],
   "source": [
    "telco.shape"
   ]
  },
  {
   "cell_type": "markdown",
   "id": "0185aa8a",
   "metadata": {},
   "source": [
    "---"
   ]
  },
  {
   "cell_type": "markdown",
   "id": "d92c8671",
   "metadata": {},
   "source": [
    "# Split the data\n",
    ">**Train, Validate, and Test**"
   ]
  },
  {
   "cell_type": "code",
   "execution_count": null,
   "id": "b09bbeae",
   "metadata": {},
   "outputs": [],
   "source": [
    "train, validate, test = split(telco)\n",
    "train.shape, validate.shape, test.shape"
   ]
  },
  {
   "cell_type": "code",
   "execution_count": null,
   "id": "723e8810",
   "metadata": {
    "scrolled": true
   },
   "outputs": [],
   "source": [
    "train.head(3)"
   ]
  },
  {
   "cell_type": "markdown",
   "id": "22ca14d5",
   "metadata": {},
   "source": [
    "# Set the X,Y Train\n",
    ">**Dropping churn from x train<br>\n",
    "Additionally, Customer ID needs to be separated before models are made**"
   ]
  },
  {
   "cell_type": "code",
   "execution_count": null,
   "id": "b5b95610",
   "metadata": {},
   "outputs": [],
   "source": [
    "x_train = train.drop(columns=['churn_Yes', 'customer_id'])\n",
    "y_train = train.churn_Yes\n",
    "train_id = train.customer_id\n",
    "\n",
    "x_validate = validate.drop(columns=['churn_Yes', 'customer_id'])\n",
    "y_validate = validate.churn_Yes\n",
    "validate_id = validate.customer_id\n",
    "\n",
    "x_test = test.drop(columns=['churn_Yes', 'customer_id'])\n",
    "y_test = test.churn_Yes\n",
    "test_id = test.customer_id"
   ]
  },
  {
   "cell_type": "markdown",
   "id": "33f1fa11",
   "metadata": {},
   "source": [
    "---"
   ]
  },
  {
   "cell_type": "markdown",
   "id": "0d2b2573",
   "metadata": {},
   "source": [
    "# Best 3 Models Discovered"
   ]
  },
  {
   "cell_type": "markdown",
   "id": "c7d1311b",
   "metadata": {},
   "source": [
    ">### Decision Tree (max_depth=3)<br>\n",
    ">### KNN (nearest 10)<br>\n",
    ">### Logistic Regression"
   ]
  },
  {
   "cell_type": "markdown",
   "id": "4b9f7f0b",
   "metadata": {},
   "source": [
    "# Decision Tree\n",
    "### I used a low depth to avoid overfitting"
   ]
  },
  {
   "cell_type": "code",
   "execution_count": null,
   "id": "86cfa58c",
   "metadata": {},
   "outputs": [],
   "source": [
    "tree = DecisionTreeClassifier(max_depth=3)"
   ]
  },
  {
   "cell_type": "code",
   "execution_count": null,
   "id": "04f3f2b9",
   "metadata": {},
   "outputs": [],
   "source": [
    "tree = tree.fit(x_train, y_train)\n",
    "y_predict = tree.predict(x_train)\n",
    "y_pred_prob = tree.predict_proba(x_train)"
   ]
  },
  {
   "cell_type": "code",
   "execution_count": null,
   "id": "8803e096",
   "metadata": {},
   "outputs": [],
   "source": [
    "cm = pd.DataFrame(confusion_matrix(y_train, y_predict))"
   ]
  },
  {
   "cell_type": "markdown",
   "id": "8a00be08",
   "metadata": {},
   "source": [
    "## Train\n",
    "**Model Score**: 79.67% <br>\n",
    "**Precision**: 82%<br>\n",
    "**Recall**: 93% <br>\n",
    "**F1 Score**: 87%"
   ]
  },
  {
   "cell_type": "code",
   "execution_count": null,
   "id": "c7876775",
   "metadata": {},
   "outputs": [],
   "source": [
    "print(classification_report(y_train, y_predict))"
   ]
  },
  {
   "cell_type": "markdown",
   "id": "5b871778",
   "metadata": {},
   "source": [
    "## Validate\n",
    "**Model Score**: 77.50%<br>\n",
    "**Precision**: 80%<br>\n",
    "**Recall**: 93%<br>\n",
    "**F1 Score**: 86%"
   ]
  },
  {
   "cell_type": "code",
   "execution_count": null,
   "id": "4903d724",
   "metadata": {
    "scrolled": true
   },
   "outputs": [],
   "source": [
    "y_pred_val = tree.predict(x_validate)\n",
    "print(classification_report(y_validate, y_pred_val))"
   ]
  },
  {
   "cell_type": "markdown",
   "id": "adf2500c",
   "metadata": {},
   "source": [
    "---"
   ]
  },
  {
   "cell_type": "markdown",
   "id": "7e9d6a70",
   "metadata": {},
   "source": [
    "# Logistic Regression"
   ]
  },
  {
   "cell_type": "code",
   "execution_count": null,
   "id": "079cb29d",
   "metadata": {},
   "outputs": [],
   "source": [
    "logit = LogisticRegression(random_state=248)"
   ]
  },
  {
   "cell_type": "code",
   "execution_count": null,
   "id": "599fb1e6",
   "metadata": {},
   "outputs": [],
   "source": [
    "logit.fit(x_train, y_train)"
   ]
  },
  {
   "cell_type": "code",
   "execution_count": null,
   "id": "6830bae0",
   "metadata": {},
   "outputs": [],
   "source": [
    "y_pred_lr = logit.predict(x_train)"
   ]
  },
  {
   "cell_type": "code",
   "execution_count": null,
   "id": "8ac74907",
   "metadata": {
    "scrolled": true
   },
   "outputs": [],
   "source": [
    "y_pred_prob_lr = logit.predict_proba(x_test)\n",
    "y_pred_prob_lr = pd.DataFrame(y_pred_prob_lr, columns=['0: NotChurn', '1: Churn'])\n",
    "y_pred_prob_lr.head(10)"
   ]
  },
  {
   "cell_type": "markdown",
   "id": "65f4a221",
   "metadata": {},
   "source": [
    "## Train"
   ]
  },
  {
   "cell_type": "markdown",
   "id": "dc7f3034",
   "metadata": {},
   "source": [
    "**Model/Accuracy Score**: 78%<br>\n",
    "**Precision**: 81%<br>\n",
    "**Recall**: 91%<br>\n",
    "**F1 Score**: 86%"
   ]
  },
  {
   "cell_type": "code",
   "execution_count": null,
   "id": "7d1e3232",
   "metadata": {
    "scrolled": true
   },
   "outputs": [],
   "source": [
    "print(classification_report(y_train, y_pred_lr))"
   ]
  },
  {
   "cell_type": "markdown",
   "id": "49064b8f",
   "metadata": {},
   "source": [
    "## Validate"
   ]
  },
  {
   "cell_type": "markdown",
   "id": "328fd7af",
   "metadata": {},
   "source": [
    "**Model/Accuracy Score**: 75%<br>\n",
    "**Precision**: 79%<br>\n",
    "**Recall**: 90%<br>\n",
    "**F1 Score**: 84%"
   ]
  },
  {
   "cell_type": "code",
   "execution_count": null,
   "id": "72288fe1",
   "metadata": {},
   "outputs": [],
   "source": [
    "y_pred_lr_val = logit.predict(x_validate)"
   ]
  },
  {
   "cell_type": "code",
   "execution_count": null,
   "id": "75334eca",
   "metadata": {},
   "outputs": [],
   "source": [
    "print(classification_report(y_validate, y_pred_lr_val))"
   ]
  },
  {
   "cell_type": "markdown",
   "id": "ebdf8a9b",
   "metadata": {},
   "source": [
    "---"
   ]
  },
  {
   "cell_type": "markdown",
   "id": "bfa63a8b",
   "metadata": {},
   "source": [
    "# KNN (nearest 10)"
   ]
  },
  {
   "cell_type": "code",
   "execution_count": null,
   "id": "05b45dd1",
   "metadata": {},
   "outputs": [],
   "source": [
    "knn = KNeighborsClassifier(n_neighbors=10, weights='uniform')\n",
    "knn = knn.fit(x_train, y_train)"
   ]
  },
  {
   "cell_type": "code",
   "execution_count": null,
   "id": "599292ad",
   "metadata": {},
   "outputs": [],
   "source": [
    "y_predict_knn = knn.predict(x_train)"
   ]
  },
  {
   "cell_type": "code",
   "execution_count": null,
   "id": "659a3893",
   "metadata": {},
   "outputs": [],
   "source": [
    "y_pred_prob_knn = knn.predict_proba(x_train)"
   ]
  },
  {
   "cell_type": "markdown",
   "id": "68be5357",
   "metadata": {},
   "source": [
    "## Train"
   ]
  },
  {
   "cell_type": "markdown",
   "id": "14641c34",
   "metadata": {},
   "source": [
    "**Model/Accuracy Score**: 81%<br>\n",
    "**Precision**: 83%<br>\n",
    "**Recall**: 93%<br>\n",
    "**F1 Score**: 88%"
   ]
  },
  {
   "cell_type": "code",
   "execution_count": null,
   "id": "c5e6347e",
   "metadata": {},
   "outputs": [],
   "source": [
    "print(classification_report(y_train, y_predict_knn))"
   ]
  },
  {
   "cell_type": "markdown",
   "id": "d585f7de",
   "metadata": {},
   "source": [
    "## Validate"
   ]
  },
  {
   "cell_type": "markdown",
   "id": "d8859511",
   "metadata": {},
   "source": [
    "**Model/Accuracy Score**: 77%<br>\n",
    "**Precision**: 80%<br>\n",
    "**Recall**: 90%<br>\n",
    "**F1 Score**: 85%"
   ]
  },
  {
   "cell_type": "code",
   "execution_count": null,
   "id": "afa78c4d",
   "metadata": {},
   "outputs": [],
   "source": [
    "y_predict_knn_val = knn.predict(x_validate)"
   ]
  },
  {
   "cell_type": "code",
   "execution_count": null,
   "id": "326cb9da",
   "metadata": {},
   "outputs": [],
   "source": [
    "print(classification_report(y_validate, y_predict_knn_val))"
   ]
  },
  {
   "cell_type": "markdown",
   "id": "7bad7dba",
   "metadata": {},
   "source": [
    "# The Overall Best Model is... Decision Tree"
   ]
  },
  {
   "cell_type": "markdown",
   "id": "d436f791",
   "metadata": {},
   "source": [
    " ### Test:\n",
    "**Model Score**: 78.78%<br>\n",
    "**Precision**: 81%<br>\n",
    "**Recall**: 92%<br>\n",
    "**F1 Score**: 86%"
   ]
  },
  {
   "cell_type": "code",
   "execution_count": null,
   "id": "123146bb",
   "metadata": {},
   "outputs": [],
   "source": [
    "y_pred_test = tree.predict(x_test)\n",
    "print(classification_report(y_test, y_pred_test))"
   ]
  },
  {
   "cell_type": "markdown",
   "id": "348fb7f2",
   "metadata": {},
   "source": [
    "<div class=\"alert alert-block alert-warning\">\n",
    "\n",
    "# Recommendations:\n",
    "    \n",
    "> **Focus efforts on offering discounted or free online security<br>\n",
    "    Same for Tech Support**"
   ]
  },
  {
   "cell_type": "markdown",
   "id": "8677a76b",
   "metadata": {},
   "source": [
    "# If I could do further analysis, I would explore tenure and age more closely"
   ]
  },
  {
   "cell_type": "markdown",
   "id": "57b9b566",
   "metadata": {},
   "source": [
    "### Those who are senior citizens are about 16% of customers, but churn twice as much as their younger counterparts\n",
    "### See more precisely in tenure to target to keep customers early on\n",
    "### Understand why those opted into paperless billing churn at high rates"
   ]
  },
  {
   "cell_type": "markdown",
   "id": "edc39620",
   "metadata": {},
   "source": [
    "---"
   ]
  }
 ],
 "metadata": {
  "kernelspec": {
   "display_name": "Python 3 (ipykernel)",
   "language": "python",
   "name": "python3"
  },
  "language_info": {
   "codemirror_mode": {
    "name": "ipython",
    "version": 3
   },
   "file_extension": ".py",
   "mimetype": "text/x-python",
   "name": "python",
   "nbconvert_exporter": "python",
   "pygments_lexer": "ipython3",
   "version": "3.9.12"
  }
 },
 "nbformat": 4,
 "nbformat_minor": 5
}
