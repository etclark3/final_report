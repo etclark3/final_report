{
 "cells": [
  {
   "cell_type": "markdown",
   "id": "772d1d2b",
   "metadata": {},
   "source": [
    "<img src=\"https://encrypted-tbn0.gstatic.com/images?q=tbn:ANd9GcTu8IayzMrmGKgbnT0hGkk6k7FhiK1ICbTNUA&usqp=CAU\" />"
   ]
  },
  {
   "cell_type": "code",
   "execution_count": 5,
   "id": "d9cd234d",
   "metadata": {},
   "outputs": [],
   "source": [
    "import os\n",
    "from acquire import test, grab_telco, prep_t, telco_test, split\n",
    "from env import username, password, host\n",
    "import numpy as np\n",
    "import pandas as pd\n",
    "import seaborn as sns\n",
    "import matplotlib.pyplot as plt\n",
    "import scipy.stats as stats\n",
    "\n",
    "import warnings\n",
    "warnings.filterwarnings('ignore')\n",
    "\n",
    "import sklearn.metrics as mtc\n",
    "from sklearn.metrics import classification_report, confusion_matrix, accuracy_score, recall_score, precision_score, f1_score\n",
    "from sklearn.tree import DecisionTreeClassifier, plot_tree\n",
    "from sklearn.ensemble import RandomForestClassifier\n",
    "from sklearn.neighbors import KNeighborsClassifier\n",
    "from sklearn.linear_model import LogisticRegression"
   ]
  },
  {
   "cell_type": "markdown",
   "id": "0ebd86a9",
   "metadata": {},
   "source": [
    "<div class=\"alert alert-block alert-success\">\n",
    "    \n",
    "# Business Goals\n",
    "## - Find drivers for customer churn at Telco. Why are customers churning?\n",
    "## - Construct a Machine Learning classification model that accurately predicts customer churn.\n",
    "## - Deliver a report that a non-data scientist can read through and understand what steps were taken, why and what was the outcome?"
   ]
  },
  {
   "cell_type": "markdown",
   "id": "5a9f99df",
   "metadata": {},
   "source": [
    "<div class=\"alert alert-block alert-info\">\n",
    "    \n",
    "# Initial Questions:\n",
    "### Are certain groups (age, gender, etc.) of customers unsatisfied with our service?\n",
    "\n",
    "### Do we offer products/services(internet types) that do not meet expectations?\n",
    "\n",
    "### Are we charging too much?\n",
    "\n",
    "### Do we lack customer support?\n",
    "\n",
    "### Do we need to put more focus on the types of contracts we offer for customers?"
   ]
  },
  {
   "cell_type": "markdown",
   "id": "8347b774",
   "metadata": {},
   "source": [
    "# Acquire and view the data\n",
    ">We will grab this data from the telco.csv file"
   ]
  },
  {
   "cell_type": "code",
   "execution_count": 6,
   "id": "9491facf",
   "metadata": {},
   "outputs": [
    {
     "data": {
      "text/html": [
       "<div>\n",
       "<style scoped>\n",
       "    .dataframe tbody tr th:only-of-type {\n",
       "        vertical-align: middle;\n",
       "    }\n",
       "\n",
       "    .dataframe tbody tr th {\n",
       "        vertical-align: top;\n",
       "    }\n",
       "\n",
       "    .dataframe thead th {\n",
       "        text-align: right;\n",
       "    }\n",
       "</style>\n",
       "<table border=\"1\" class=\"dataframe\">\n",
       "  <thead>\n",
       "    <tr style=\"text-align: right;\">\n",
       "      <th></th>\n",
       "      <th>Unnamed: 0</th>\n",
       "      <th>customer_id</th>\n",
       "      <th>gender</th>\n",
       "      <th>senior_citizen</th>\n",
       "      <th>partner</th>\n",
       "      <th>dependents</th>\n",
       "      <th>tenure</th>\n",
       "      <th>phone_service</th>\n",
       "      <th>multiple_lines</th>\n",
       "      <th>internet_service_type_id</th>\n",
       "      <th>...</th>\n",
       "      <th>device_protection</th>\n",
       "      <th>tech_support</th>\n",
       "      <th>streaming_tv</th>\n",
       "      <th>streaming_movies</th>\n",
       "      <th>contract_type_id</th>\n",
       "      <th>paperless_billing</th>\n",
       "      <th>payment_type_id</th>\n",
       "      <th>monthly_charges</th>\n",
       "      <th>total_charges</th>\n",
       "      <th>churn</th>\n",
       "    </tr>\n",
       "  </thead>\n",
       "  <tbody>\n",
       "    <tr>\n",
       "      <th>0</th>\n",
       "      <td>0</td>\n",
       "      <td>0002-ORFBO</td>\n",
       "      <td>Female</td>\n",
       "      <td>0</td>\n",
       "      <td>Yes</td>\n",
       "      <td>Yes</td>\n",
       "      <td>9</td>\n",
       "      <td>Yes</td>\n",
       "      <td>No</td>\n",
       "      <td>1</td>\n",
       "      <td>...</td>\n",
       "      <td>No</td>\n",
       "      <td>Yes</td>\n",
       "      <td>Yes</td>\n",
       "      <td>No</td>\n",
       "      <td>2</td>\n",
       "      <td>Yes</td>\n",
       "      <td>2</td>\n",
       "      <td>65.6</td>\n",
       "      <td>593.3</td>\n",
       "      <td>No</td>\n",
       "    </tr>\n",
       "    <tr>\n",
       "      <th>1</th>\n",
       "      <td>1</td>\n",
       "      <td>0003-MKNFE</td>\n",
       "      <td>Male</td>\n",
       "      <td>0</td>\n",
       "      <td>No</td>\n",
       "      <td>No</td>\n",
       "      <td>9</td>\n",
       "      <td>Yes</td>\n",
       "      <td>Yes</td>\n",
       "      <td>1</td>\n",
       "      <td>...</td>\n",
       "      <td>No</td>\n",
       "      <td>No</td>\n",
       "      <td>No</td>\n",
       "      <td>Yes</td>\n",
       "      <td>1</td>\n",
       "      <td>No</td>\n",
       "      <td>2</td>\n",
       "      <td>59.9</td>\n",
       "      <td>542.4</td>\n",
       "      <td>No</td>\n",
       "    </tr>\n",
       "    <tr>\n",
       "      <th>2</th>\n",
       "      <td>2</td>\n",
       "      <td>0004-TLHLJ</td>\n",
       "      <td>Male</td>\n",
       "      <td>0</td>\n",
       "      <td>No</td>\n",
       "      <td>No</td>\n",
       "      <td>4</td>\n",
       "      <td>Yes</td>\n",
       "      <td>No</td>\n",
       "      <td>2</td>\n",
       "      <td>...</td>\n",
       "      <td>Yes</td>\n",
       "      <td>No</td>\n",
       "      <td>No</td>\n",
       "      <td>No</td>\n",
       "      <td>1</td>\n",
       "      <td>Yes</td>\n",
       "      <td>1</td>\n",
       "      <td>73.9</td>\n",
       "      <td>280.85</td>\n",
       "      <td>Yes</td>\n",
       "    </tr>\n",
       "    <tr>\n",
       "      <th>3</th>\n",
       "      <td>3</td>\n",
       "      <td>0011-IGKFF</td>\n",
       "      <td>Male</td>\n",
       "      <td>1</td>\n",
       "      <td>Yes</td>\n",
       "      <td>No</td>\n",
       "      <td>13</td>\n",
       "      <td>Yes</td>\n",
       "      <td>No</td>\n",
       "      <td>2</td>\n",
       "      <td>...</td>\n",
       "      <td>Yes</td>\n",
       "      <td>No</td>\n",
       "      <td>Yes</td>\n",
       "      <td>Yes</td>\n",
       "      <td>1</td>\n",
       "      <td>Yes</td>\n",
       "      <td>1</td>\n",
       "      <td>98.0</td>\n",
       "      <td>1237.85</td>\n",
       "      <td>Yes</td>\n",
       "    </tr>\n",
       "    <tr>\n",
       "      <th>4</th>\n",
       "      <td>4</td>\n",
       "      <td>0013-EXCHZ</td>\n",
       "      <td>Female</td>\n",
       "      <td>1</td>\n",
       "      <td>Yes</td>\n",
       "      <td>No</td>\n",
       "      <td>3</td>\n",
       "      <td>Yes</td>\n",
       "      <td>No</td>\n",
       "      <td>2</td>\n",
       "      <td>...</td>\n",
       "      <td>No</td>\n",
       "      <td>Yes</td>\n",
       "      <td>Yes</td>\n",
       "      <td>No</td>\n",
       "      <td>1</td>\n",
       "      <td>Yes</td>\n",
       "      <td>2</td>\n",
       "      <td>83.9</td>\n",
       "      <td>267.4</td>\n",
       "      <td>Yes</td>\n",
       "    </tr>\n",
       "  </tbody>\n",
       "</table>\n",
       "<p>5 rows × 22 columns</p>\n",
       "</div>"
      ],
      "text/plain": [
       "   Unnamed: 0 customer_id  gender  senior_citizen partner dependents  tenure  \\\n",
       "0           0  0002-ORFBO  Female               0     Yes        Yes       9   \n",
       "1           1  0003-MKNFE    Male               0      No         No       9   \n",
       "2           2  0004-TLHLJ    Male               0      No         No       4   \n",
       "3           3  0011-IGKFF    Male               1     Yes         No      13   \n",
       "4           4  0013-EXCHZ  Female               1     Yes         No       3   \n",
       "\n",
       "  phone_service multiple_lines  internet_service_type_id  ...  \\\n",
       "0           Yes             No                         1  ...   \n",
       "1           Yes            Yes                         1  ...   \n",
       "2           Yes             No                         2  ...   \n",
       "3           Yes             No                         2  ...   \n",
       "4           Yes             No                         2  ...   \n",
       "\n",
       "  device_protection tech_support streaming_tv streaming_movies  \\\n",
       "0                No          Yes          Yes               No   \n",
       "1                No           No           No              Yes   \n",
       "2               Yes           No           No               No   \n",
       "3               Yes           No          Yes              Yes   \n",
       "4                No          Yes          Yes               No   \n",
       "\n",
       "  contract_type_id paperless_billing  payment_type_id monthly_charges  \\\n",
       "0                2               Yes                2            65.6   \n",
       "1                1                No                2            59.9   \n",
       "2                1               Yes                1            73.9   \n",
       "3                1               Yes                1            98.0   \n",
       "4                1               Yes                2            83.9   \n",
       "\n",
       "   total_charges  churn  \n",
       "0          593.3     No  \n",
       "1          542.4     No  \n",
       "2         280.85    Yes  \n",
       "3        1237.85    Yes  \n",
       "4          267.4    Yes  \n",
       "\n",
       "[5 rows x 22 columns]"
      ]
     },
     "execution_count": 6,
     "metadata": {},
     "output_type": "execute_result"
    }
   ],
   "source": [
    "telco = grab_telco()\n",
    "telco.head()"
   ]
  },
  {
   "cell_type": "markdown",
   "id": "3fc8e1e4",
   "metadata": {},
   "source": [
    "# Look at the column(feature) Dtypes and check for cells with no values (nulls)"
   ]
  },
  {
   "cell_type": "code",
   "execution_count": 7,
   "id": "4e66f696",
   "metadata": {
    "scrolled": true
   },
   "outputs": [
    {
     "name": "stdout",
     "output_type": "stream",
     "text": [
      "<class 'pandas.core.frame.DataFrame'>\n",
      "RangeIndex: 7043 entries, 0 to 7042\n",
      "Data columns (total 22 columns):\n",
      " #   Column                    Non-Null Count  Dtype  \n",
      "---  ------                    --------------  -----  \n",
      " 0   Unnamed: 0                7043 non-null   int64  \n",
      " 1   customer_id               7043 non-null   object \n",
      " 2   gender                    7043 non-null   object \n",
      " 3   senior_citizen            7043 non-null   int64  \n",
      " 4   partner                   7043 non-null   object \n",
      " 5   dependents                7043 non-null   object \n",
      " 6   tenure                    7043 non-null   int64  \n",
      " 7   phone_service             7043 non-null   object \n",
      " 8   multiple_lines            7043 non-null   object \n",
      " 9   internet_service_type_id  7043 non-null   int64  \n",
      " 10  online_security           7043 non-null   object \n",
      " 11  online_backup             7043 non-null   object \n",
      " 12  device_protection         7043 non-null   object \n",
      " 13  tech_support              7043 non-null   object \n",
      " 14  streaming_tv              7043 non-null   object \n",
      " 15  streaming_movies          7043 non-null   object \n",
      " 16  contract_type_id          7043 non-null   int64  \n",
      " 17  paperless_billing         7043 non-null   object \n",
      " 18  payment_type_id           7043 non-null   int64  \n",
      " 19  monthly_charges           7043 non-null   float64\n",
      " 20  total_charges             7043 non-null   object \n",
      " 21  churn                     7043 non-null   object \n",
      "dtypes: float64(1), int64(6), object(15)\n",
      "memory usage: 1.2+ MB\n"
     ]
    }
   ],
   "source": [
    "telco.info()"
   ]
  },
  {
   "cell_type": "markdown",
   "id": "1b639395",
   "metadata": {},
   "source": [
    "---"
   ]
  },
  {
   "cell_type": "markdown",
   "id": "917bb2dd",
   "metadata": {},
   "source": [
    "# Prep the data\n",
    ">**Create dummy variables for modeling purposes<br>\n",
    "(1: 'Yes', 0: 'No')**"
   ]
  },
  {
   "cell_type": "code",
   "execution_count": 8,
   "id": "12a10246",
   "metadata": {},
   "outputs": [],
   "source": [
    "telco = prep_t(telco)"
   ]
  },
  {
   "cell_type": "code",
   "execution_count": 9,
   "id": "5cc02921",
   "metadata": {},
   "outputs": [
    {
     "data": {
      "text/html": [
       "<div>\n",
       "<style scoped>\n",
       "    .dataframe tbody tr th:only-of-type {\n",
       "        vertical-align: middle;\n",
       "    }\n",
       "\n",
       "    .dataframe tbody tr th {\n",
       "        vertical-align: top;\n",
       "    }\n",
       "\n",
       "    .dataframe thead th {\n",
       "        text-align: right;\n",
       "    }\n",
       "</style>\n",
       "<table border=\"1\" class=\"dataframe\">\n",
       "  <thead>\n",
       "    <tr style=\"text-align: right;\">\n",
       "      <th></th>\n",
       "      <th>customer_id</th>\n",
       "      <th>senior_citizen</th>\n",
       "      <th>tenure</th>\n",
       "      <th>internet_service_type_id</th>\n",
       "      <th>contract_type_id</th>\n",
       "      <th>payment_type_id</th>\n",
       "      <th>monthly_charges</th>\n",
       "      <th>total_charges</th>\n",
       "      <th>streaming_tv_Yes</th>\n",
       "      <th>streaming_movies_Yes</th>\n",
       "      <th>...</th>\n",
       "      <th>churn_Yes</th>\n",
       "      <th>gender_Male</th>\n",
       "      <th>partner_Yes</th>\n",
       "      <th>dependents_Yes</th>\n",
       "      <th>phone_service_Yes</th>\n",
       "      <th>online_backup_Yes</th>\n",
       "      <th>device_protection_Yes</th>\n",
       "      <th>tech_support_Yes</th>\n",
       "      <th>online_security_Yes</th>\n",
       "      <th>multiple_lines_Yes</th>\n",
       "    </tr>\n",
       "  </thead>\n",
       "  <tbody>\n",
       "    <tr>\n",
       "      <th>0</th>\n",
       "      <td>0002-ORFBO</td>\n",
       "      <td>0</td>\n",
       "      <td>9</td>\n",
       "      <td>1</td>\n",
       "      <td>2</td>\n",
       "      <td>2</td>\n",
       "      <td>65.6</td>\n",
       "      <td>593.3</td>\n",
       "      <td>1</td>\n",
       "      <td>0</td>\n",
       "      <td>...</td>\n",
       "      <td>0</td>\n",
       "      <td>0</td>\n",
       "      <td>1</td>\n",
       "      <td>1</td>\n",
       "      <td>1</td>\n",
       "      <td>1</td>\n",
       "      <td>0</td>\n",
       "      <td>1</td>\n",
       "      <td>0</td>\n",
       "      <td>0</td>\n",
       "    </tr>\n",
       "    <tr>\n",
       "      <th>1</th>\n",
       "      <td>0003-MKNFE</td>\n",
       "      <td>0</td>\n",
       "      <td>9</td>\n",
       "      <td>1</td>\n",
       "      <td>1</td>\n",
       "      <td>2</td>\n",
       "      <td>59.9</td>\n",
       "      <td>542.4</td>\n",
       "      <td>0</td>\n",
       "      <td>1</td>\n",
       "      <td>...</td>\n",
       "      <td>0</td>\n",
       "      <td>1</td>\n",
       "      <td>0</td>\n",
       "      <td>0</td>\n",
       "      <td>1</td>\n",
       "      <td>0</td>\n",
       "      <td>0</td>\n",
       "      <td>0</td>\n",
       "      <td>0</td>\n",
       "      <td>1</td>\n",
       "    </tr>\n",
       "    <tr>\n",
       "      <th>2</th>\n",
       "      <td>0004-TLHLJ</td>\n",
       "      <td>0</td>\n",
       "      <td>4</td>\n",
       "      <td>2</td>\n",
       "      <td>1</td>\n",
       "      <td>1</td>\n",
       "      <td>73.9</td>\n",
       "      <td>280.85</td>\n",
       "      <td>0</td>\n",
       "      <td>0</td>\n",
       "      <td>...</td>\n",
       "      <td>1</td>\n",
       "      <td>1</td>\n",
       "      <td>0</td>\n",
       "      <td>0</td>\n",
       "      <td>1</td>\n",
       "      <td>0</td>\n",
       "      <td>1</td>\n",
       "      <td>0</td>\n",
       "      <td>0</td>\n",
       "      <td>0</td>\n",
       "    </tr>\n",
       "  </tbody>\n",
       "</table>\n",
       "<p>3 rows × 21 columns</p>\n",
       "</div>"
      ],
      "text/plain": [
       "  customer_id  senior_citizen  tenure  internet_service_type_id  \\\n",
       "0  0002-ORFBO               0       9                         1   \n",
       "1  0003-MKNFE               0       9                         1   \n",
       "2  0004-TLHLJ               0       4                         2   \n",
       "\n",
       "   contract_type_id  payment_type_id  monthly_charges total_charges  \\\n",
       "0                 2                2             65.6         593.3   \n",
       "1                 1                2             59.9         542.4   \n",
       "2                 1                1             73.9        280.85   \n",
       "\n",
       "   streaming_tv_Yes  streaming_movies_Yes  ...  churn_Yes  gender_Male  \\\n",
       "0                 1                     0  ...          0            0   \n",
       "1                 0                     1  ...          0            1   \n",
       "2                 0                     0  ...          1            1   \n",
       "\n",
       "   partner_Yes  dependents_Yes  phone_service_Yes  online_backup_Yes  \\\n",
       "0            1               1                  1                  1   \n",
       "1            0               0                  1                  0   \n",
       "2            0               0                  1                  0   \n",
       "\n",
       "   device_protection_Yes  tech_support_Yes  online_security_Yes  \\\n",
       "0                      0                 1                    0   \n",
       "1                      0                 0                    0   \n",
       "2                      1                 0                    0   \n",
       "\n",
       "   multiple_lines_Yes  \n",
       "0                   0  \n",
       "1                   1  \n",
       "2                   0  \n",
       "\n",
       "[3 rows x 21 columns]"
      ]
     },
     "execution_count": 9,
     "metadata": {},
     "output_type": "execute_result"
    }
   ],
   "source": [
    "telco.head(3)"
   ]
  },
  {
   "cell_type": "markdown",
   "id": "b53681ce",
   "metadata": {},
   "source": [
    "## Separate Customer ID and Total Charges from the data. \n",
    ">**The feature is not needed to run tests, but I'd like to still keep it.<br>\n",
    "<br>\n",
    "I do not believe Total Charges will aid in the prediction of churn based on how it is defined(the amount of charges over a customers lifetime with Telco**."
   ]
  },
  {
   "cell_type": "code",
   "execution_count": 11,
   "id": "781097f2",
   "metadata": {
    "scrolled": true
   },
   "outputs": [
    {
     "data": {
      "text/html": [
       "<div>\n",
       "<style scoped>\n",
       "    .dataframe tbody tr th:only-of-type {\n",
       "        vertical-align: middle;\n",
       "    }\n",
       "\n",
       "    .dataframe tbody tr th {\n",
       "        vertical-align: top;\n",
       "    }\n",
       "\n",
       "    .dataframe thead th {\n",
       "        text-align: right;\n",
       "    }\n",
       "</style>\n",
       "<table border=\"1\" class=\"dataframe\">\n",
       "  <thead>\n",
       "    <tr style=\"text-align: right;\">\n",
       "      <th></th>\n",
       "      <th>customer_id</th>\n",
       "      <th>total_charges</th>\n",
       "    </tr>\n",
       "  </thead>\n",
       "  <tbody>\n",
       "    <tr>\n",
       "      <th>0</th>\n",
       "      <td>0002-ORFBO</td>\n",
       "      <td>593.3</td>\n",
       "    </tr>\n",
       "    <tr>\n",
       "      <th>1</th>\n",
       "      <td>0003-MKNFE</td>\n",
       "      <td>542.4</td>\n",
       "    </tr>\n",
       "    <tr>\n",
       "      <th>2</th>\n",
       "      <td>0004-TLHLJ</td>\n",
       "      <td>280.85</td>\n",
       "    </tr>\n",
       "    <tr>\n",
       "      <th>3</th>\n",
       "      <td>0011-IGKFF</td>\n",
       "      <td>1237.85</td>\n",
       "    </tr>\n",
       "    <tr>\n",
       "      <th>4</th>\n",
       "      <td>0013-EXCHZ</td>\n",
       "      <td>267.4</td>\n",
       "    </tr>\n",
       "  </tbody>\n",
       "</table>\n",
       "</div>"
      ],
      "text/plain": [
       "  customer_id total_charges\n",
       "0  0002-ORFBO         593.3\n",
       "1  0003-MKNFE         542.4\n",
       "2  0004-TLHLJ        280.85\n",
       "3  0011-IGKFF       1237.85\n",
       "4  0013-EXCHZ         267.4"
      ]
     },
     "execution_count": 11,
     "metadata": {},
     "output_type": "execute_result"
    }
   ],
   "source": [
    "customers = telco[['customer_id', 'total_charges']]\n",
    "customers.head()"
   ]
  },
  {
   "cell_type": "markdown",
   "id": "47bf895a",
   "metadata": {},
   "source": [
    "## ... And then make sure the dataset reflects that change"
   ]
  },
  {
   "cell_type": "code",
   "execution_count": 12,
   "id": "fde8d502",
   "metadata": {
    "scrolled": true
   },
   "outputs": [
    {
     "data": {
      "text/html": [
       "<div>\n",
       "<style scoped>\n",
       "    .dataframe tbody tr th:only-of-type {\n",
       "        vertical-align: middle;\n",
       "    }\n",
       "\n",
       "    .dataframe tbody tr th {\n",
       "        vertical-align: top;\n",
       "    }\n",
       "\n",
       "    .dataframe thead th {\n",
       "        text-align: right;\n",
       "    }\n",
       "</style>\n",
       "<table border=\"1\" class=\"dataframe\">\n",
       "  <thead>\n",
       "    <tr style=\"text-align: right;\">\n",
       "      <th></th>\n",
       "      <th>customer_id</th>\n",
       "      <th>senior_citizen</th>\n",
       "      <th>tenure</th>\n",
       "      <th>internet_service_type_id</th>\n",
       "      <th>contract_type_id</th>\n",
       "      <th>payment_type_id</th>\n",
       "      <th>monthly_charges</th>\n",
       "      <th>streaming_tv_Yes</th>\n",
       "      <th>streaming_movies_Yes</th>\n",
       "      <th>paperless_billing_Yes</th>\n",
       "      <th>churn_Yes</th>\n",
       "      <th>gender_Male</th>\n",
       "      <th>partner_Yes</th>\n",
       "      <th>dependents_Yes</th>\n",
       "      <th>phone_service_Yes</th>\n",
       "      <th>online_backup_Yes</th>\n",
       "      <th>device_protection_Yes</th>\n",
       "      <th>tech_support_Yes</th>\n",
       "      <th>online_security_Yes</th>\n",
       "      <th>multiple_lines_Yes</th>\n",
       "    </tr>\n",
       "  </thead>\n",
       "  <tbody>\n",
       "    <tr>\n",
       "      <th>0</th>\n",
       "      <td>0002-ORFBO</td>\n",
       "      <td>0</td>\n",
       "      <td>9</td>\n",
       "      <td>1</td>\n",
       "      <td>2</td>\n",
       "      <td>2</td>\n",
       "      <td>65.6</td>\n",
       "      <td>1</td>\n",
       "      <td>0</td>\n",
       "      <td>1</td>\n",
       "      <td>0</td>\n",
       "      <td>0</td>\n",
       "      <td>1</td>\n",
       "      <td>1</td>\n",
       "      <td>1</td>\n",
       "      <td>1</td>\n",
       "      <td>0</td>\n",
       "      <td>1</td>\n",
       "      <td>0</td>\n",
       "      <td>0</td>\n",
       "    </tr>\n",
       "    <tr>\n",
       "      <th>1</th>\n",
       "      <td>0003-MKNFE</td>\n",
       "      <td>0</td>\n",
       "      <td>9</td>\n",
       "      <td>1</td>\n",
       "      <td>1</td>\n",
       "      <td>2</td>\n",
       "      <td>59.9</td>\n",
       "      <td>0</td>\n",
       "      <td>1</td>\n",
       "      <td>0</td>\n",
       "      <td>0</td>\n",
       "      <td>1</td>\n",
       "      <td>0</td>\n",
       "      <td>0</td>\n",
       "      <td>1</td>\n",
       "      <td>0</td>\n",
       "      <td>0</td>\n",
       "      <td>0</td>\n",
       "      <td>0</td>\n",
       "      <td>1</td>\n",
       "    </tr>\n",
       "    <tr>\n",
       "      <th>2</th>\n",
       "      <td>0004-TLHLJ</td>\n",
       "      <td>0</td>\n",
       "      <td>4</td>\n",
       "      <td>2</td>\n",
       "      <td>1</td>\n",
       "      <td>1</td>\n",
       "      <td>73.9</td>\n",
       "      <td>0</td>\n",
       "      <td>0</td>\n",
       "      <td>1</td>\n",
       "      <td>1</td>\n",
       "      <td>1</td>\n",
       "      <td>0</td>\n",
       "      <td>0</td>\n",
       "      <td>1</td>\n",
       "      <td>0</td>\n",
       "      <td>1</td>\n",
       "      <td>0</td>\n",
       "      <td>0</td>\n",
       "      <td>0</td>\n",
       "    </tr>\n",
       "    <tr>\n",
       "      <th>3</th>\n",
       "      <td>0011-IGKFF</td>\n",
       "      <td>1</td>\n",
       "      <td>13</td>\n",
       "      <td>2</td>\n",
       "      <td>1</td>\n",
       "      <td>1</td>\n",
       "      <td>98.0</td>\n",
       "      <td>1</td>\n",
       "      <td>1</td>\n",
       "      <td>1</td>\n",
       "      <td>1</td>\n",
       "      <td>1</td>\n",
       "      <td>1</td>\n",
       "      <td>0</td>\n",
       "      <td>1</td>\n",
       "      <td>1</td>\n",
       "      <td>1</td>\n",
       "      <td>0</td>\n",
       "      <td>0</td>\n",
       "      <td>0</td>\n",
       "    </tr>\n",
       "    <tr>\n",
       "      <th>4</th>\n",
       "      <td>0013-EXCHZ</td>\n",
       "      <td>1</td>\n",
       "      <td>3</td>\n",
       "      <td>2</td>\n",
       "      <td>1</td>\n",
       "      <td>2</td>\n",
       "      <td>83.9</td>\n",
       "      <td>1</td>\n",
       "      <td>0</td>\n",
       "      <td>1</td>\n",
       "      <td>1</td>\n",
       "      <td>0</td>\n",
       "      <td>1</td>\n",
       "      <td>0</td>\n",
       "      <td>1</td>\n",
       "      <td>0</td>\n",
       "      <td>0</td>\n",
       "      <td>1</td>\n",
       "      <td>0</td>\n",
       "      <td>0</td>\n",
       "    </tr>\n",
       "  </tbody>\n",
       "</table>\n",
       "</div>"
      ],
      "text/plain": [
       "  customer_id  senior_citizen  tenure  internet_service_type_id  \\\n",
       "0  0002-ORFBO               0       9                         1   \n",
       "1  0003-MKNFE               0       9                         1   \n",
       "2  0004-TLHLJ               0       4                         2   \n",
       "3  0011-IGKFF               1      13                         2   \n",
       "4  0013-EXCHZ               1       3                         2   \n",
       "\n",
       "   contract_type_id  payment_type_id  monthly_charges  streaming_tv_Yes  \\\n",
       "0                 2                2             65.6                 1   \n",
       "1                 1                2             59.9                 0   \n",
       "2                 1                1             73.9                 0   \n",
       "3                 1                1             98.0                 1   \n",
       "4                 1                2             83.9                 1   \n",
       "\n",
       "   streaming_movies_Yes  paperless_billing_Yes  churn_Yes  gender_Male  \\\n",
       "0                     0                      1          0            0   \n",
       "1                     1                      0          0            1   \n",
       "2                     0                      1          1            1   \n",
       "3                     1                      1          1            1   \n",
       "4                     0                      1          1            0   \n",
       "\n",
       "   partner_Yes  dependents_Yes  phone_service_Yes  online_backup_Yes  \\\n",
       "0            1               1                  1                  1   \n",
       "1            0               0                  1                  0   \n",
       "2            0               0                  1                  0   \n",
       "3            1               0                  1                  1   \n",
       "4            1               0                  1                  0   \n",
       "\n",
       "   device_protection_Yes  tech_support_Yes  online_security_Yes  \\\n",
       "0                      0                 1                    0   \n",
       "1                      0                 0                    0   \n",
       "2                      1                 0                    0   \n",
       "3                      1                 0                    0   \n",
       "4                      0                 1                    0   \n",
       "\n",
       "   multiple_lines_Yes  \n",
       "0                   0  \n",
       "1                   1  \n",
       "2                   0  \n",
       "3                   0  \n",
       "4                   0  "
      ]
     },
     "execution_count": 12,
     "metadata": {},
     "output_type": "execute_result"
    }
   ],
   "source": [
    "telco = telco.loc[:, telco.columns != 'total_charges']\n",
    "telco.head()"
   ]
  },
  {
   "cell_type": "markdown",
   "id": "059cd19f",
   "metadata": {},
   "source": [
    "### Now all features are numerical values"
   ]
  },
  {
   "cell_type": "markdown",
   "id": "ec1c71c3",
   "metadata": {},
   "source": [
    "## Additionally, I want to make sure I don't forget what each value represents for the categorical data:\n",
    "\n",
    "### Internet Service Type:\n",
    "> 1. DSL\n",
    "2. Fiber Optic\n",
    "3. None\n",
    "\n",
    "### Payment Type: \n",
    "> 1. Electronic check\n",
    "2. Mailed check\n",
    "3. Bank Transfer\n",
    "4. CC\n",
    "\n",
    "### Contract Type: \n",
    "> 1. Month-to-Month\n",
    "2. One-year\n",
    "3. Two-year"
   ]
  },
  {
   "cell_type": "markdown",
   "id": "c247dcc0",
   "metadata": {},
   "source": [
    "---"
   ]
  },
  {
   "cell_type": "markdown",
   "id": "ef74e70b",
   "metadata": {},
   "source": [
    "# I ran statistical tests on the whole dataset to give initial direction"
   ]
  },
  {
   "cell_type": "code",
   "execution_count": 13,
   "id": "794a6e3d",
   "metadata": {},
   "outputs": [
    {
     "data": {
      "image/png": "[encoded data removed]",
      "text/plain": [
       "<Figure size 432x288 with 1 Axes>"
      ]
     },
     "metadata": {
      "needs_background": "light"
     },
     "output_type": "display_data"
    },
    {
     "name": "stdout",
     "output_type": "stream",
     "text": [
      "We fail to reject that churn_Yes and customer_id are independent\n",
      "There appears to be no relationship between customer_id and churn_Yes\n",
      "None\n",
      "-------\n",
      "customer_id  0002-ORFBO  0003-MKNFE  0004-TLHLJ  0011-IGKFF  0013-EXCHZ  \\\n",
      "churn_Yes                                                                 \n",
      "0                     1           1           0           0           0   \n",
      "1                     0           0           1           1           1   \n",
      "\n",
      "customer_id  0013-MHZWF  0013-SMEOE  0014-BMAQU  0015-UOCOJ  0016-QLJIS  ...  \\\n",
      "churn_Yes                                                                ...   \n",
      "0                     1           1           1           1           1  ...   \n",
      "1                     0           0           0           0           0  ...   \n",
      "\n",
      "customer_id  9975-SKRNR  9978-HYCIN  9979-RGMZT  9985-MWVIX  9986-BONCE  \\\n",
      "churn_Yes                                                                 \n",
      "0                     1           1           1           0           0   \n",
      "1                     0           0           0           1           1   \n",
      "\n",
      "customer_id  9987-LUTYD  9992-RRAMN  9992-UJOEL  9993-LHIEB  9995-HOTOH  \n",
      "churn_Yes                                                                \n",
      "0                     1           0           1           1           1  \n",
      "1                     0           1           0           0           0  \n",
      "\n",
      "[2 rows x 7043 columns]\n",
      "-------\n",
      "(7043.0, 0.49439767459438705, 7042, array([[0.73463013, 0.73463013, 0.73463013, ..., 0.73463013, 0.73463013,\n",
      "        0.73463013],\n",
      "       [0.26536987, 0.26536987, 0.26536987, ..., 0.26536987, 0.26536987,\n",
      "        0.26536987]]))\n",
      "-------\n",
      "0002-ORFBO    1\n",
      "6616-AALSR    1\n",
      "6625-UTXEW    1\n",
      "6625-IUTTT    1\n",
      "6625-FLENO    1\n",
      "             ..\n",
      "3352-RICWQ    1\n",
      "3352-ALMCK    1\n",
      "3351-NQLDI    1\n",
      "3351-NGXYI    1\n",
      "9995-HOTOH    1\n",
      "Name: customer_id, Length: 7043, dtype: int64\n",
      "0002-ORFBO    0.000142\n",
      "6616-AALSR    0.000142\n",
      "6625-UTXEW    0.000142\n",
      "6625-IUTTT    0.000142\n",
      "6625-FLENO    0.000142\n",
      "                ...   \n",
      "3352-RICWQ    0.000142\n",
      "3352-ALMCK    0.000142\n",
      "3351-NQLDI    0.000142\n",
      "3351-NGXYI    0.000142\n",
      "9995-HOTOH    0.000142\n",
      "Name: customer_id, Length: 7043, dtype: float64\n"
     ]
    },
    {
     "data": {
      "image/png": "[encoded data removed]",
      "text/plain": [
       "<Figure size 432x288 with 1 Axes>"
      ]
     },
     "metadata": {
      "needs_background": "light"
     },
     "output_type": "display_data"
    },
    {
     "name": "stdout",
     "output_type": "stream",
     "text": [
      "We reject that churn_Yes and senior_citizen are independent\n",
      "There is a relationship between senior_citizen and churn_Yes\n",
      "None\n",
      "-------\n",
      "senior_citizen     0    1\n",
      "churn_Yes                \n",
      "0               4508  666\n",
      "1               1393  476\n",
      "-------\n",
      "(159.42630036838742, 1.510066805092378e-36, 1, array([[4335.05239245,  838.94760755],\n",
      "       [1565.94760755,  303.05239245]]))\n",
      "-------\n",
      "0    5901\n",
      "1    1142\n",
      "Name: senior_citizen, dtype: int64\n",
      "0    0.837853\n",
      "1    0.162147\n",
      "Name: senior_citizen, dtype: float64\n"
     ]
    },
    {
     "data": {
      "image/png": "[encoded data removed]",
      "text/plain": [
       "<Figure size 432x288 with 1 Axes>"
      ]
     },
     "metadata": {
      "needs_background": "light"
     },
     "output_type": "display_data"
    },
    {
     "name": "stdout",
     "output_type": "stream",
     "text": [
      "We reject that churn_Yes and tenure are independent\n",
      "There is a relationship between tenure and churn_Yes\n",
      "None\n",
      "-------\n",
      "tenure     0    1    2    3   4   5   6   7   8   9   ...  63  64  65  66  67  \\\n",
      "churn_Yes                                             ...                       \n",
      "0          11  233  115  106  93  69  70  80  81  73  ...  68  76  67  76  88   \n",
      "1           0  380  123   94  83  64  40  51  42  46  ...   4   4   9  13  10   \n",
      "\n",
      "tenure     68  69   70   71   72  \n",
      "churn_Yes                         \n",
      "0          91  87  108  164  356  \n",
      "1           9   8   11    6    6  \n",
      "\n",
      "[2 rows x 73 columns]\n",
      "-------\n",
      "(1065.3308567510544, 1.2807811055496877e-176, 72, array([[  8.08093142, 450.3282692 , 174.84197075, 146.92602584,\n",
      "        129.29490274,  97.70580718,  80.80931421,  96.23654693,\n",
      "         90.35950589,  87.42098538,  85.21709499,  72.72838279,\n",
      "         85.95172512,  80.07468408,  55.83188982,  72.72838279,\n",
      "         58.77041034,  63.91282124,  71.25912253,  53.62799943,\n",
      "         52.15873917,  46.28169814,  66.11671163,  62.44356098,\n",
      "         69.05523215,  58.03578021,  58.03578021,  52.8933693 ,\n",
      "         41.87391736,  52.8933693 ,  52.8933693 ,  47.7509584 ,\n",
      "         50.68947892,  47.01632827,  47.7509584 ,  64.64745137,\n",
      "         36.73150646,  47.7509584 ,  43.34317762,  41.13928724,\n",
      "         47.01632827,  51.42410904,  47.7509584 ,  47.7509584 ,\n",
      "         37.46613659,  44.81243788,  54.36262956,  49.95484879,\n",
      "         47.01632827,  48.48558853,  49.95484879,  49.95484879,\n",
      "         58.77041034,  51.42410904,  49.95484879,  47.01632827,\n",
      "         58.77041034,  47.7509584 ,  49.22021866,  44.07780775,\n",
      "         55.83188982,  55.83188982,  51.42410904,  52.8933693 ,\n",
      "         58.77041034,  55.83188982,  65.3820815 ,  71.99375266,\n",
      "         73.46301292,  69.78986227,  87.42098538, 124.88712197,\n",
      "        265.93610677],\n",
      "       [  2.91906858, 162.6717308 ,  63.15802925,  53.07397416,\n",
      "         46.70509726,  35.29419282,  29.19068579,  34.76345307,\n",
      "         32.64049411,  31.57901462,  30.78290501,  26.27161721,\n",
      "         31.04827488,  28.92531592,  20.16811018,  26.27161721,\n",
      "         21.22958966,  23.08717876,  25.74087747,  19.37200057,\n",
      "         18.84126083,  16.71830186,  23.88328837,  22.55643902,\n",
      "         24.94476785,  20.96421979,  20.96421979,  19.1066307 ,\n",
      "         15.12608264,  19.1066307 ,  19.1066307 ,  17.2490416 ,\n",
      "         18.31052108,  16.98367173,  17.2490416 ,  23.35254863,\n",
      "         13.26849354,  17.2490416 ,  15.65682238,  14.86071276,\n",
      "         16.98367173,  18.57589096,  17.2490416 ,  17.2490416 ,\n",
      "         13.53386341,  16.18756212,  19.63737044,  18.04515121,\n",
      "         16.98367173,  17.51441147,  18.04515121,  18.04515121,\n",
      "         21.22958966,  18.57589096,  18.04515121,  16.98367173,\n",
      "         21.22958966,  17.2490416 ,  17.77978134,  15.92219225,\n",
      "         20.16811018,  20.16811018,  18.57589096,  19.1066307 ,\n",
      "         21.22958966,  20.16811018,  23.6179185 ,  26.00624734,\n",
      "         26.53698708,  25.21013773,  31.57901462,  45.11287803,\n",
      "         96.06389323]]))\n",
      "-------\n",
      "1     613\n",
      "72    362\n",
      "2     238\n",
      "3     200\n",
      "4     176\n",
      "     ... \n",
      "28     57\n",
      "39     56\n",
      "44     51\n",
      "36     50\n",
      "0      11\n",
      "Name: tenure, Length: 73, dtype: int64\n",
      "1     0.087037\n",
      "72    0.051399\n",
      "2     0.033792\n",
      "3     0.028397\n",
      "4     0.024989\n",
      "        ...   \n",
      "28    0.008093\n",
      "39    0.007951\n",
      "44    0.007241\n",
      "36    0.007099\n",
      "0     0.001562\n",
      "Name: tenure, Length: 73, dtype: float64\n"
     ]
    },
    {
     "data": {
      "image/png": "[encoded data removed]",
      "text/plain": [
       "<Figure size 432x288 with 1 Axes>"
      ]
     },
     "metadata": {
      "needs_background": "light"
     },
     "output_type": "display_data"
    },
    {
     "name": "stdout",
     "output_type": "stream",
     "text": [
      "We reject that churn_Yes and internet_service_type_id are independent\n",
      "There is a relationship between internet_service_type_id and churn_Yes\n",
      "None\n",
      "-------\n",
      "internet_service_type_id     1     2     3\n",
      "churn_Yes                                 \n",
      "0                         1962  1799  1413\n",
      "1                          459  1297   113\n",
      "-------\n",
      "(732.309589667794, 9.571788222840544e-160, 2, array([[1778.53954281, 2274.41488002, 1121.04557717],\n",
      "       [ 642.46045719,  821.58511998,  404.95442283]]))\n",
      "-------\n",
      "2    3096\n",
      "1    2421\n",
      "3    1526\n",
      "Name: internet_service_type_id, dtype: int64\n",
      "2    0.439585\n",
      "1    0.343746\n",
      "3    0.216669\n",
      "Name: internet_service_type_id, dtype: float64\n"
     ]
    },
    {
     "data": {
      "image/png": "[encoded data removed]",
      "text/plain": [
       "<Figure size 432x288 with 1 Axes>"
      ]
     },
     "metadata": {
      "needs_background": "light"
     },
     "output_type": "display_data"
    },
    {
     "name": "stdout",
     "output_type": "stream",
     "text": [
      "We reject that churn_Yes and contract_type_id are independent\n",
      "There is a relationship between contract_type_id and churn_Yes\n",
      "None\n",
      "-------\n",
      "contract_type_id     1     2     3\n",
      "churn_Yes                         \n",
      "0                 2220  1307  1647\n",
      "1                 1655   166    48\n",
      "-------\n",
      "(1184.5965720837926, 5.863038300673391e-258, 2, array([[2846.69175067, 1082.11018032, 1245.198069  ],\n",
      "       [1028.30824933,  390.88981968,  449.801931  ]]))\n",
      "-------\n",
      "1    3875\n",
      "3    1695\n",
      "2    1473\n",
      "Name: contract_type_id, dtype: int64\n",
      "1    0.550192\n",
      "3    0.240664\n",
      "2    0.209144\n",
      "Name: contract_type_id, dtype: float64\n"
     ]
    },
    {
     "data": {
      "image/png": "[encoded data removed]",
      "text/plain": [
       "<Figure size 432x288 with 1 Axes>"
      ]
     },
     "metadata": {
      "needs_background": "light"
     },
     "output_type": "display_data"
    },
    {
     "name": "stdout",
     "output_type": "stream",
     "text": [
      "We reject that churn_Yes and payment_type_id are independent\n",
      "There is a relationship between payment_type_id and churn_Yes\n",
      "None\n",
      "-------\n",
      "payment_type_id     1     2     3     4\n",
      "churn_Yes                              \n",
      "0                1294  1304  1286  1290\n",
      "1                1071   308   258   232\n",
      "-------\n",
      "(648.1423274814, 3.6823546520097993e-140, 3, array([[1737.40025557, 1184.22376828, 1134.26891949, 1118.10705665],\n",
      "       [ 627.59974443,  427.77623172,  409.73108051,  403.89294335]]))\n",
      "-------\n",
      "1    2365\n",
      "2    1612\n",
      "3    1544\n",
      "4    1522\n",
      "Name: payment_type_id, dtype: int64\n",
      "1    0.335794\n",
      "2    0.228880\n",
      "3    0.219225\n",
      "4    0.216101\n",
      "Name: payment_type_id, dtype: float64\n"
     ]
    },
    {
     "data": {
      "image/png": "[encoded data removed]",
      "text/plain": [
       "<Figure size 432x288 with 1 Axes>"
      ]
     },
     "metadata": {
      "needs_background": "light"
     },
     "output_type": "display_data"
    },
    {
     "name": "stdout",
     "output_type": "stream",
     "text": [
      "We reject that churn_Yes and monthly_charges are independent\n",
      "There is a relationship between monthly_charges and churn_Yes\n",
      "None\n",
      "-------\n",
      "monthly_charges  18.25   18.40   18.55   18.70   18.75   18.80   18.85   \\\n",
      "churn_Yes                                                                 \n",
      "0                     1       1       1       2       1       7       4   \n",
      "1                     0       0       0       0       0       0       1   \n",
      "\n",
      "monthly_charges  18.90   18.95   19.00   ...  117.35  117.45  117.50  117.60  \\\n",
      "churn_Yes                                ...                                   \n",
      "0                     2       5       6  ...       1       0       1       1   \n",
      "1                     0       1       1  ...       0       1       0       0   \n",
      "\n",
      "monthly_charges  117.80  118.20  118.35  118.60  118.65  118.75  \n",
      "churn_Yes                                                        \n",
      "0                     0       1       0       2       1       1  \n",
      "1                     1       0       1       0       0       0  \n",
      "\n",
      "[2 rows x 1585 columns]\n",
      "-------\n",
      "(2123.609129997958, 1.8852727784254426e-18, 1584, array([[0.73463013, 0.73463013, 0.73463013, ..., 1.46926026, 0.73463013,\n",
      "        0.73463013],\n",
      "       [0.26536987, 0.26536987, 0.26536987, ..., 0.53073974, 0.26536987,\n",
      "        0.26536987]]))\n",
      "-------\n",
      "20.05     61\n",
      "19.85     45\n",
      "19.95     44\n",
      "19.90     44\n",
      "20.00     43\n",
      "          ..\n",
      "116.55     1\n",
      "106.85     1\n",
      "68.55      1\n",
      "108.80     1\n",
      "67.85      1\n",
      "Name: monthly_charges, Length: 1585, dtype: int64\n",
      "20.05     0.008661\n",
      "19.85     0.006389\n",
      "19.95     0.006247\n",
      "19.90     0.006247\n",
      "20.00     0.006105\n",
      "            ...   \n",
      "116.55    0.000142\n",
      "106.85    0.000142\n",
      "68.55     0.000142\n",
      "108.80    0.000142\n",
      "67.85     0.000142\n",
      "Name: monthly_charges, Length: 1585, dtype: float64\n"
     ]
    },
    {
     "data": {
      "image/png": "[encoded data removed]",
      "text/plain": [
       "<Figure size 432x288 with 1 Axes>"
      ]
     },
     "metadata": {
      "needs_background": "light"
     },
     "output_type": "display_data"
    },
    {
     "name": "stdout",
     "output_type": "stream",
     "text": [
      "We reject that churn_Yes and streaming_tv_Yes are independent\n",
      "There is a relationship between streaming_tv_Yes and churn_Yes\n",
      "None\n",
      "-------\n",
      "streaming_tv_Yes     0     1\n",
      "churn_Yes                   \n",
      "0                 3281  1893\n",
      "1                 1055   814\n",
      "-------\n",
      "(27.862522274233417, 1.3024835736732686e-07, 1, array([[3185.35624024, 1988.64375976],\n",
      "       [1150.64375976,  718.35624024]]))\n",
      "-------\n",
      "0    4336\n",
      "1    2707\n",
      "Name: streaming_tv_Yes, dtype: int64\n",
      "0    0.615647\n",
      "1    0.384353\n",
      "Name: streaming_tv_Yes, dtype: float64\n"
     ]
    },
    {
     "data": {
      "image/png": "[encoded data removed]",
      "text/plain": [
       "<Figure size 432x288 with 1 Axes>"
      ]
     },
     "metadata": {
      "needs_background": "light"
     },
     "output_type": "display_data"
    },
    {
     "name": "stdout",
     "output_type": "stream",
     "text": [
      "We reject that churn_Yes and streaming_movies_Yes are independent\n",
      "There is a relationship between streaming_movies_Yes and churn_Yes\n",
      "None\n",
      "-------\n",
      "streaming_movies_Yes     0     1\n",
      "churn_Yes                       \n",
      "0                     3260  1914\n",
      "1                     1051   818\n",
      "-------\n",
      "(26.251336010038468, 2.997473847626761e-07, 1, array([[3166.99048701, 2007.00951299],\n",
      "       [1144.00951299,  724.99048701]]))\n",
      "-------\n",
      "0    4311\n",
      "1    2732\n",
      "Name: streaming_movies_Yes, dtype: int64\n",
      "0    0.612097\n",
      "1    0.387903\n",
      "Name: streaming_movies_Yes, dtype: float64\n"
     ]
    },
    {
     "data": {
      "image/png": "[encoded data removed]",
      "text/plain": [
       "<Figure size 432x288 with 1 Axes>"
      ]
     },
     "metadata": {
      "needs_background": "light"
     },
     "output_type": "display_data"
    },
    {
     "name": "stdout",
     "output_type": "stream",
     "text": [
      "We reject that churn_Yes and paperless_billing_Yes are independent\n",
      "There is a relationship between paperless_billing_Yes and churn_Yes\n",
      "None\n",
      "-------\n",
      "paperless_billing_Yes     0     1\n",
      "churn_Yes                        \n",
      "0                      2403  2771\n",
      "1                       469  1400\n",
      "-------\n",
      "(258.27764906707307, 4.073354668665985e-58, 1, array([[2109.85773108, 3064.14226892],\n",
      "       [ 762.14226892, 1106.85773108]]))\n",
      "-------\n",
      "1    4171\n",
      "0    2872\n",
      "Name: paperless_billing_Yes, dtype: int64\n",
      "1    0.592219\n",
      "0    0.407781\n",
      "Name: paperless_billing_Yes, dtype: float64\n"
     ]
    },
    {
     "data": {
      "image/png": "[encoded data removed]",
      "text/plain": [
       "<Figure size 432x288 with 1 Axes>"
      ]
     },
     "metadata": {
      "needs_background": "light"
     },
     "output_type": "display_data"
    },
    {
     "name": "stdout",
     "output_type": "stream",
     "text": [
      "We reject that churn_Yes and churn_Yes are independent\n",
      "There is a relationship between churn_Yes and churn_Yes\n",
      "None\n",
      "-------\n",
      "churn_Yes     0     1\n",
      "churn_Yes            \n",
      "0          5174     0\n",
      "1             0  1869\n",
      "-------\n",
      "(7037.871379458012, 0.0, 1, array([[3800.97628851, 1373.02371149],\n",
      "       [1373.02371149,  495.97628851]]))\n",
      "-------\n",
      "0    5174\n",
      "1    1869\n",
      "Name: churn_Yes, dtype: int64\n",
      "0    0.73463\n",
      "1    0.26537\n",
      "Name: churn_Yes, dtype: float64\n"
     ]
    },
    {
     "data": {
      "image/png": "[encoded data removed]",
      "text/plain": [
       "<Figure size 432x288 with 1 Axes>"
      ]
     },
     "metadata": {
      "needs_background": "light"
     },
     "output_type": "display_data"
    },
    {
     "name": "stdout",
     "output_type": "stream",
     "text": [
      "We fail to reject that churn_Yes and gender_Male are independent\n",
      "There appears to be no relationship between gender_Male and churn_Yes\n",
      "None\n",
      "-------\n",
      "gender_Male     0     1\n",
      "churn_Yes              \n",
      "0            2549  2625\n",
      "1             939   930\n",
      "-------\n",
      "(0.4840828822091383, 0.48657873605618596, 1, array([[2562.38989067, 2611.61010933],\n",
      "       [ 925.61010933,  943.38989067]]))\n",
      "-------\n",
      "1    3555\n",
      "0    3488\n",
      "Name: gender_Male, dtype: int64\n",
      "1    0.504756\n",
      "0    0.495244\n",
      "Name: gender_Male, dtype: float64\n"
     ]
    },
    {
     "data": {
      "image/png": "[encoded data removed]",
      "text/plain": [
       "<Figure size 432x288 with 1 Axes>"
      ]
     },
     "metadata": {
      "needs_background": "light"
     },
     "output_type": "display_data"
    },
    {
     "name": "stdout",
     "output_type": "stream",
     "text": [
      "We reject that churn_Yes and partner_Yes are independent\n",
      "There is a relationship between partner_Yes and churn_Yes\n",
      "None\n",
      "-------\n",
      "partner_Yes     0     1\n",
      "churn_Yes              \n",
      "0            2441  2733\n",
      "1            1200   669\n",
      "-------\n",
      "(158.7333820309922, 2.1399113440759935e-36, 1, array([[2674.78830044, 2499.21169956],\n",
      "       [ 966.21169956,  902.78830044]]))\n",
      "-------\n",
      "0    3641\n",
      "1    3402\n",
      "Name: partner_Yes, dtype: int64\n",
      "0    0.516967\n",
      "1    0.483033\n",
      "Name: partner_Yes, dtype: float64\n"
     ]
    },
    {
     "data": {
      "image/png": "[encoded data removed]",
      "text/plain": [
       "<Figure size 432x288 with 1 Axes>"
      ]
     },
     "metadata": {
      "needs_background": "light"
     },
     "output_type": "display_data"
    },
    {
     "name": "stdout",
     "output_type": "stream",
     "text": [
      "We reject that churn_Yes and dependents_Yes are independent\n",
      "There is a relationship between dependents_Yes and churn_Yes\n",
      "None\n",
      "-------\n",
      "dependents_Yes     0     1\n",
      "churn_Yes                 \n",
      "0               3390  1784\n",
      "1               1543   326\n",
      "-------\n",
      "(189.12924940423474, 4.9249216612154196e-43, 1, array([[3623.93042737, 1550.06957263],\n",
      "       [1309.06957263,  559.93042737]]))\n",
      "-------\n",
      "0    4933\n",
      "1    2110\n",
      "Name: dependents_Yes, dtype: int64\n",
      "0    0.700412\n",
      "1    0.299588\n",
      "Name: dependents_Yes, dtype: float64\n"
     ]
    },
    {
     "data": {
      "image/png": "[encoded data removed]",
      "text/plain": [
       "<Figure size 432x288 with 1 Axes>"
      ]
     },
     "metadata": {
      "needs_background": "light"
     },
     "output_type": "display_data"
    },
    {
     "name": "stdout",
     "output_type": "stream",
     "text": [
      "We fail to reject that churn_Yes and phone_service_Yes are independent\n",
      "There appears to be no relationship between phone_service_Yes and churn_Yes\n",
      "None\n",
      "-------\n",
      "phone_service_Yes    0     1\n",
      "churn_Yes                   \n",
      "0                  512  4662\n",
      "1                  170  1699\n",
      "-------\n",
      "(0.9150329892546948, 0.3387825358066928, 1, array([[ 501.01774812, 4672.98225188],\n",
      "       [ 180.98225188, 1688.01774812]]))\n",
      "-------\n",
      "1    6361\n",
      "0     682\n",
      "Name: phone_service_Yes, dtype: int64\n",
      "1    0.903166\n",
      "0    0.096834\n",
      "Name: phone_service_Yes, dtype: float64\n"
     ]
    },
    {
     "data": {
      "image/png": "[encoded data removed]",
      "text/plain": [
       "<Figure size 432x288 with 1 Axes>"
      ]
     },
     "metadata": {
      "needs_background": "light"
     },
     "output_type": "display_data"
    },
    {
     "name": "stdout",
     "output_type": "stream",
     "text": [
      "We reject that churn_Yes and online_backup_Yes are independent\n",
      "There is a relationship between online_backup_Yes and churn_Yes\n",
      "None\n",
      "-------\n",
      "online_backup_Yes     0     1\n",
      "churn_Yes                    \n",
      "0                  3268  1906\n",
      "1                  1346   523\n",
      "-------\n",
      "(47.260854003612764, 6.214092807254819e-12, 1, array([[3389.58341616, 1784.41658384],\n",
      "       [1224.41658384,  644.58341616]]))\n",
      "-------\n",
      "0    4614\n",
      "1    2429\n",
      "Name: online_backup_Yes, dtype: int64\n",
      "0    0.655119\n",
      "1    0.344881\n",
      "Name: online_backup_Yes, dtype: float64\n"
     ]
    },
    {
     "data": {
      "image/png": "[encoded data removed]",
      "text/plain": [
       "<Figure size 432x288 with 1 Axes>"
      ]
     },
     "metadata": {
      "needs_background": "light"
     },
     "output_type": "display_data"
    },
    {
     "name": "stdout",
     "output_type": "stream",
     "text": [
      "We reject that churn_Yes and device_protection_Yes are independent\n",
      "There is a relationship between device_protection_Yes and churn_Yes\n",
      "None\n",
      "-------\n",
      "device_protection_Yes     0     1\n",
      "churn_Yes                        \n",
      "0                      3297  1877\n",
      "1                      1324   545\n",
      "-------\n",
      "(30.513394539261302, 3.315693222362868e-08, 1, array([[3394.72582706, 1779.27417294],\n",
      "       [1226.27417294,  642.72582706]]))\n",
      "-------\n",
      "0    4621\n",
      "1    2422\n",
      "Name: device_protection_Yes, dtype: int64\n",
      "0    0.656112\n",
      "1    0.343888\n",
      "Name: device_protection_Yes, dtype: float64\n"
     ]
    },
    {
     "data": {
      "image/png": "[encoded data removed]",
      "text/plain": [
       "<Figure size 432x288 with 1 Axes>"
      ]
     },
     "metadata": {
      "needs_background": "light"
     },
     "output_type": "display_data"
    },
    {
     "name": "stdout",
     "output_type": "stream",
     "text": [
      "We reject that churn_Yes and tech_support_Yes are independent\n",
      "There is a relationship between tech_support_Yes and churn_Yes\n",
      "None\n",
      "-------\n",
      "tech_support_Yes     0     1\n",
      "churn_Yes                   \n",
      "0                 3440  1734\n",
      "1                 1559   310\n",
      "-------\n",
      "(190.16684201526067, 2.9235674453140758e-43, 1, array([[3672.4160159, 1501.5839841],\n",
      "       [1326.5839841,  542.4160159]]))\n",
      "-------\n",
      "0    4999\n",
      "1    2044\n",
      "Name: tech_support_Yes, dtype: int64\n",
      "0    0.709783\n",
      "1    0.290217\n",
      "Name: tech_support_Yes, dtype: float64\n"
     ]
    },
    {
     "data": {
      "image/png": "[encoded data removed]",
      "text/plain": [
       "<Figure size 432x288 with 1 Axes>"
      ]
     },
     "metadata": {
      "needs_background": "light"
     },
     "output_type": "display_data"
    },
    {
     "name": "stdout",
     "output_type": "stream",
     "text": [
      "We reject that churn_Yes and online_security_Yes are independent\n",
      "There is a relationship between online_security_Yes and churn_Yes\n",
      "None\n",
      "-------\n",
      "online_security_Yes     0     1\n",
      "churn_Yes                      \n",
      "0                    3450  1724\n",
      "1                    1574   295\n",
      "-------\n",
      "(205.63310416062058, 1.2320984831180024e-46, 1, array([[3690.78176913, 1483.21823087],\n",
      "       [1333.21823087,  535.78176913]]))\n",
      "-------\n",
      "0    5024\n",
      "1    2019\n",
      "Name: online_security_Yes, dtype: int64\n",
      "0    0.713332\n",
      "1    0.286668\n",
      "Name: online_security_Yes, dtype: float64\n"
     ]
    },
    {
     "data": {
      "image/png": "[encoded data removed]",
      "text/plain": [
       "<Figure size 432x288 with 1 Axes>"
      ]
     },
     "metadata": {
      "needs_background": "light"
     },
     "output_type": "display_data"
    },
    {
     "name": "stdout",
     "output_type": "stream",
     "text": [
      "We reject that churn_Yes and multiple_lines_Yes are independent\n",
      "There is a relationship between multiple_lines_Yes and churn_Yes\n",
      "None\n",
      "-------\n",
      "multiple_lines_Yes     0     1\n",
      "churn_Yes                     \n",
      "0                   3053  2121\n",
      "1                   1019   850\n",
      "-------\n",
      "(11.143251001456253, 0.0008433795342472412, 1, array([[2991.41388613, 2182.58611387],\n",
      "       [1080.58611387,  788.41388613]]))\n",
      "-------\n",
      "0    4072\n",
      "1    2971\n",
      "Name: multiple_lines_Yes, dtype: int64\n",
      "0    0.578163\n",
      "1    0.421837\n",
      "Name: multiple_lines_Yes, dtype: float64\n"
     ]
    }
   ],
   "source": [
    "telco_test(telco)"
   ]
  },
  {
   "cell_type": "markdown",
   "id": "3381099c",
   "metadata": {},
   "source": [
    "<div class=\"alert alert-block alert-success\">\n",
    "    \n",
    "## For now, I want to focus on:\n",
    "**Internet Service Type:**<br>\n",
    "> Fiber Optic reprsents almost half of customers, yet churn at over twice the rate of other internet types.<br>\n",
    "\n",
    "**Online Backup:**<br>\n",
    "> The population without online back is twice as large as those who do, yet churn 10% more.\n",
    "\n",
    "**Device Protection:**<br>\n",
    "> 2/3 of customer don't have device protection and churn more often that those who do, it could be beneficial to target them.\n",
    "\n",
    "**Tech Support:**<br>\n",
    "> Almost 3/4 of customers don't utilize Tech Support and churn twice as often as those who do\n",
    "\n",
    "**Online Security:**<br>\n",
    "> Over 70% of customer do not have Online security yet churn twice as fast as those who do.\n",
    "\n",
    "**Payment Type:**\n",
    "> Electronic Check payments churn at almost 2.5x the rate of any other payment method and represent a third of all customers.\n",
    "    \n",
    "**Age:**<br>\n",
    "> Senior Citizens are twice as likely to churn than their younger counter parts.\n",
    "\n",
    "**Tenure:**<br>\n",
    "> It's clear that long-term customers are less and less likely to churn over time.\n",
    "\n"
   ]
  },
  {
   "cell_type": "markdown",
   "id": "8978841f",
   "metadata": {},
   "source": [
    "### I chose these features based on the statistical relationship coupled with the proportion of each features 'Yes' or 'No'\n",
    "### I decided against using the rest of the features due to either lack of relationship or other factors that cannot be controlled\n",
    "> **Example**: Dependents, those with no dependents churn at twice the rate of those who do have dependents, but that does not indicate the reason thye do so."
   ]
  },
  {
   "cell_type": "markdown",
   "id": "e304005f",
   "metadata": {},
   "source": [
    "# Focus on those features"
   ]
  },
  {
   "cell_type": "code",
   "execution_count": 14,
   "id": "f109d1a2",
   "metadata": {
    "scrolled": false
   },
   "outputs": [
    {
     "data": {
      "text/html": [
       "<div>\n",
       "<style scoped>\n",
       "    .dataframe tbody tr th:only-of-type {\n",
       "        vertical-align: middle;\n",
       "    }\n",
       "\n",
       "    .dataframe tbody tr th {\n",
       "        vertical-align: top;\n",
       "    }\n",
       "\n",
       "    .dataframe thead th {\n",
       "        text-align: right;\n",
       "    }\n",
       "</style>\n",
       "<table border=\"1\" class=\"dataframe\">\n",
       "  <thead>\n",
       "    <tr style=\"text-align: right;\">\n",
       "      <th></th>\n",
       "      <th>customer_id</th>\n",
       "      <th>internet_service_type_id</th>\n",
       "      <th>payment_type_id</th>\n",
       "      <th>tenure</th>\n",
       "      <th>paperless_billing_Yes</th>\n",
       "      <th>churn_Yes</th>\n",
       "      <th>phone_service_Yes</th>\n",
       "      <th>online_backup_Yes</th>\n",
       "      <th>tech_support_Yes</th>\n",
       "      <th>online_security_Yes</th>\n",
       "    </tr>\n",
       "  </thead>\n",
       "  <tbody>\n",
       "    <tr>\n",
       "      <th>0</th>\n",
       "      <td>0002-ORFBO</td>\n",
       "      <td>1</td>\n",
       "      <td>2</td>\n",
       "      <td>9</td>\n",
       "      <td>1</td>\n",
       "      <td>0</td>\n",
       "      <td>1</td>\n",
       "      <td>1</td>\n",
       "      <td>1</td>\n",
       "      <td>0</td>\n",
       "    </tr>\n",
       "    <tr>\n",
       "      <th>1</th>\n",
       "      <td>0003-MKNFE</td>\n",
       "      <td>1</td>\n",
       "      <td>2</td>\n",
       "      <td>9</td>\n",
       "      <td>0</td>\n",
       "      <td>0</td>\n",
       "      <td>1</td>\n",
       "      <td>0</td>\n",
       "      <td>0</td>\n",
       "      <td>0</td>\n",
       "    </tr>\n",
       "    <tr>\n",
       "      <th>2</th>\n",
       "      <td>0004-TLHLJ</td>\n",
       "      <td>2</td>\n",
       "      <td>1</td>\n",
       "      <td>4</td>\n",
       "      <td>1</td>\n",
       "      <td>1</td>\n",
       "      <td>1</td>\n",
       "      <td>0</td>\n",
       "      <td>0</td>\n",
       "      <td>0</td>\n",
       "    </tr>\n",
       "  </tbody>\n",
       "</table>\n",
       "</div>"
      ],
      "text/plain": [
       "  customer_id  internet_service_type_id  payment_type_id  tenure  \\\n",
       "0  0002-ORFBO                         1                2       9   \n",
       "1  0003-MKNFE                         1                2       9   \n",
       "2  0004-TLHLJ                         2                1       4   \n",
       "\n",
       "   paperless_billing_Yes  churn_Yes  phone_service_Yes  online_backup_Yes  \\\n",
       "0                      1          0                  1                  1   \n",
       "1                      0          0                  1                  0   \n",
       "2                      1          1                  1                  0   \n",
       "\n",
       "   tech_support_Yes  online_security_Yes  \n",
       "0                 1                    0  \n",
       "1                 0                    0  \n",
       "2                 0                    0  "
      ]
     },
     "execution_count": 14,
     "metadata": {},
     "output_type": "execute_result"
    }
   ],
   "source": [
    "telco = telco[['customer_id', \n",
    "               'internet_service_type_id',\n",
    "               'payment_type_id',\n",
    "               'tenure',\n",
    "               'paperless_billing_Yes',\n",
    "               'churn_Yes',\n",
    "               'phone_service_Yes',\n",
    "               'online_backup_Yes',\n",
    "               'tech_support_Yes',\n",
    "               'online_security_Yes']]\n",
    "telco.head(3)"
   ]
  },
  {
   "cell_type": "markdown",
   "id": "4c8f000f",
   "metadata": {},
   "source": [
    "---"
   ]
  },
  {
   "cell_type": "markdown",
   "id": "be23c2d1",
   "metadata": {},
   "source": [
    "---"
   ]
  },
  {
   "cell_type": "markdown",
   "id": "cb342078",
   "metadata": {},
   "source": [
    "# Understand how the data is shaped to make sure it is properly split in Train, Validate, and Test"
   ]
  },
  {
   "cell_type": "code",
   "execution_count": 17,
   "id": "d3d3b177",
   "metadata": {
    "scrolled": false
   },
   "outputs": [
    {
     "data": {
      "text/plain": [
       "(7043, 10)"
      ]
     },
     "execution_count": 17,
     "metadata": {},
     "output_type": "execute_result"
    }
   ],
   "source": [
    "telco.shape"
   ]
  },
  {
   "cell_type": "markdown",
   "id": "0185aa8a",
   "metadata": {},
   "source": [
    "---"
   ]
  },
  {
   "cell_type": "markdown",
   "id": "d92c8671",
   "metadata": {},
   "source": [
    "# Split the data\n",
    ">**Train, Validate, and Test**"
   ]
  },
  {
   "cell_type": "code",
   "execution_count": 18,
   "id": "b09bbeae",
   "metadata": {},
   "outputs": [
    {
     "data": {
      "text/plain": [
       "((4225, 10), (1409, 10), (1409, 10))"
      ]
     },
     "execution_count": 18,
     "metadata": {},
     "output_type": "execute_result"
    }
   ],
   "source": [
    "train, validate, test = split(telco)\n",
    "train.shape, validate.shape, test.shape"
   ]
  },
  {
   "cell_type": "code",
   "execution_count": 19,
   "id": "723e8810",
   "metadata": {
    "scrolled": true
   },
   "outputs": [
    {
     "data": {
      "text/html": [
       "<div>\n",
       "<style scoped>\n",
       "    .dataframe tbody tr th:only-of-type {\n",
       "        vertical-align: middle;\n",
       "    }\n",
       "\n",
       "    .dataframe tbody tr th {\n",
       "        vertical-align: top;\n",
       "    }\n",
       "\n",
       "    .dataframe thead th {\n",
       "        text-align: right;\n",
       "    }\n",
       "</style>\n",
       "<table border=\"1\" class=\"dataframe\">\n",
       "  <thead>\n",
       "    <tr style=\"text-align: right;\">\n",
       "      <th></th>\n",
       "      <th>customer_id</th>\n",
       "      <th>internet_service_type_id</th>\n",
       "      <th>payment_type_id</th>\n",
       "      <th>tenure</th>\n",
       "      <th>paperless_billing_Yes</th>\n",
       "      <th>churn_Yes</th>\n",
       "      <th>phone_service_Yes</th>\n",
       "      <th>online_backup_Yes</th>\n",
       "      <th>tech_support_Yes</th>\n",
       "      <th>online_security_Yes</th>\n",
       "    </tr>\n",
       "  </thead>\n",
       "  <tbody>\n",
       "    <tr>\n",
       "      <th>531</th>\n",
       "      <td>0781-LKXBR</td>\n",
       "      <td>2</td>\n",
       "      <td>1</td>\n",
       "      <td>9</td>\n",
       "      <td>1</td>\n",
       "      <td>1</td>\n",
       "      <td>1</td>\n",
       "      <td>0</td>\n",
       "      <td>0</td>\n",
       "      <td>0</td>\n",
       "    </tr>\n",
       "    <tr>\n",
       "      <th>484</th>\n",
       "      <td>0707-HOVVN</td>\n",
       "      <td>1</td>\n",
       "      <td>3</td>\n",
       "      <td>70</td>\n",
       "      <td>1</td>\n",
       "      <td>0</td>\n",
       "      <td>1</td>\n",
       "      <td>1</td>\n",
       "      <td>1</td>\n",
       "      <td>0</td>\n",
       "    </tr>\n",
       "    <tr>\n",
       "      <th>4224</th>\n",
       "      <td>5960-MVTUK</td>\n",
       "      <td>1</td>\n",
       "      <td>1</td>\n",
       "      <td>3</td>\n",
       "      <td>1</td>\n",
       "      <td>0</td>\n",
       "      <td>0</td>\n",
       "      <td>0</td>\n",
       "      <td>1</td>\n",
       "      <td>0</td>\n",
       "    </tr>\n",
       "  </tbody>\n",
       "</table>\n",
       "</div>"
      ],
      "text/plain": [
       "     customer_id  internet_service_type_id  payment_type_id  tenure  \\\n",
       "531   0781-LKXBR                         2                1       9   \n",
       "484   0707-HOVVN                         1                3      70   \n",
       "4224  5960-MVTUK                         1                1       3   \n",
       "\n",
       "      paperless_billing_Yes  churn_Yes  phone_service_Yes  online_backup_Yes  \\\n",
       "531                       1          1                  1                  0   \n",
       "484                       1          0                  1                  1   \n",
       "4224                      1          0                  0                  0   \n",
       "\n",
       "      tech_support_Yes  online_security_Yes  \n",
       "531                  0                    0  \n",
       "484                  1                    0  \n",
       "4224                 1                    0  "
      ]
     },
     "execution_count": 19,
     "metadata": {},
     "output_type": "execute_result"
    }
   ],
   "source": [
    "train.head(3)"
   ]
  },
  {
   "cell_type": "markdown",
   "id": "7e57bbdf",
   "metadata": {},
   "source": [
    "# Baseline\n",
    ">**Establish the baseline rate of Churn (on train)**"
   ]
  },
  {
   "cell_type": "code",
   "execution_count": 20,
   "id": "86fa2eec",
   "metadata": {
    "scrolled": true
   },
   "outputs": [
    {
     "data": {
      "text/plain": [
       "0    3122\n",
       "1    1103\n",
       "Name: churn_Yes, dtype: int64"
      ]
     },
     "execution_count": 20,
     "metadata": {},
     "output_type": "execute_result"
    }
   ],
   "source": [
    "train.churn_Yes.value_counts()"
   ]
  },
  {
   "cell_type": "code",
   "execution_count": 23,
   "id": "9280efdf",
   "metadata": {},
   "outputs": [
    {
     "data": {
      "text/plain": [
       "0.7389349112426036"
      ]
     },
     "execution_count": 23,
     "metadata": {},
     "output_type": "execute_result"
    }
   ],
   "source": [
    "baseline_accuracy = 3122/4225\n",
    "baseline_accuracy"
   ]
  },
  {
   "cell_type": "markdown",
   "id": "22ca14d5",
   "metadata": {},
   "source": [
    "# Set the X,Y Train\n",
    ">**Dropping churn from x train<br>\n",
    "Additionally, Customer ID needs to be separated before models are made**"
   ]
  },
  {
   "cell_type": "code",
   "execution_count": 24,
   "id": "b5b95610",
   "metadata": {},
   "outputs": [],
   "source": [
    "x_train = train.drop(columns=['churn_Yes', 'customer_id'])\n",
    "y_train = train.churn_Yes\n",
    "train_id = train.customer_id\n",
    "\n",
    "x_validate = validate.drop(columns=['churn_Yes', 'customer_id'])\n",
    "y_validate = validate.churn_Yes\n",
    "validate_id = validate.customer_id\n",
    "\n",
    "x_test = test.drop(columns=['churn_Yes', 'customer_id'])\n",
    "y_test = test.churn_Yes\n",
    "test_id = test.customer_id"
   ]
  },
  {
   "cell_type": "markdown",
   "id": "33f1fa11",
   "metadata": {},
   "source": [
    "---"
   ]
  },
  {
   "cell_type": "markdown",
   "id": "0d2b2573",
   "metadata": {},
   "source": [
    "# Best 3 Models Discovered"
   ]
  },
  {
   "cell_type": "markdown",
   "id": "c7d1311b",
   "metadata": {},
   "source": [
    ">### Decision Tree (max_depth=3)<br>\n",
    ">### KNN (nearest 10)<br>\n",
    ">### Logistic Regression"
   ]
  },
  {
   "cell_type": "markdown",
   "id": "4b9f7f0b",
   "metadata": {},
   "source": [
    "# Decision Tree\n",
    "### I used a low depth to avoid overfitting"
   ]
  },
  {
   "cell_type": "code",
   "execution_count": 25,
   "id": "86cfa58c",
   "metadata": {},
   "outputs": [],
   "source": [
    "tree = DecisionTreeClassifier(max_depth=3)"
   ]
  },
  {
   "cell_type": "code",
   "execution_count": 26,
   "id": "04f3f2b9",
   "metadata": {},
   "outputs": [],
   "source": [
    "tree = tree.fit(x_train, y_train)\n",
    "y_predict = tree.predict(x_train)\n",
    "y_pred_prob = tree.predict_proba(x_train)"
   ]
  },
  {
   "cell_type": "code",
   "execution_count": 27,
   "id": "8803e096",
   "metadata": {},
   "outputs": [],
   "source": [
    "cm = pd.DataFrame(confusion_matrix(y_train, y_predict))"
   ]
  },
  {
   "cell_type": "markdown",
   "id": "8a00be08",
   "metadata": {},
   "source": [
    "## Train\n",
    "**Model Score**: 79.67% <br>\n",
    "**Precision**: 82%<br>\n",
    "**Recall**: 93% <br>\n",
    "**F1 Score**: 87%"
   ]
  },
  {
   "cell_type": "code",
   "execution_count": 28,
   "id": "c7876775",
   "metadata": {},
   "outputs": [
    {
     "name": "stdout",
     "output_type": "stream",
     "text": [
      "              precision    recall  f1-score   support\n",
      "\n",
      "           0       0.82      0.93      0.87      3122\n",
      "           1       0.68      0.41      0.51      1103\n",
      "\n",
      "    accuracy                           0.80      4225\n",
      "   macro avg       0.75      0.67      0.69      4225\n",
      "weighted avg       0.78      0.80      0.78      4225\n",
      "\n"
     ]
    }
   ],
   "source": [
    "print(classification_report(y_train, y_predict))"
   ]
  },
  {
   "cell_type": "markdown",
   "id": "5b871778",
   "metadata": {},
   "source": [
    "## Validate\n",
    "**Model Score**: 77.50%<br>\n",
    "**Precision**: 80%<br>\n",
    "**Recall**: 93%<br>\n",
    "**F1 Score**: 86%"
   ]
  },
  {
   "cell_type": "code",
   "execution_count": 29,
   "id": "4903d724",
   "metadata": {
    "scrolled": true
   },
   "outputs": [
    {
     "name": "stdout",
     "output_type": "stream",
     "text": [
      "              precision    recall  f1-score   support\n",
      "\n",
      "           0       0.80      0.93      0.86      1020\n",
      "           1       0.67      0.37      0.48       389\n",
      "\n",
      "    accuracy                           0.78      1409\n",
      "   macro avg       0.73      0.65      0.67      1409\n",
      "weighted avg       0.76      0.78      0.75      1409\n",
      "\n"
     ]
    }
   ],
   "source": [
    "y_pred_val = tree.predict(x_validate)\n",
    "print(classification_report(y_validate, y_pred_val))"
   ]
  },
  {
   "cell_type": "markdown",
   "id": "adf2500c",
   "metadata": {},
   "source": [
    "---"
   ]
  },
  {
   "cell_type": "markdown",
   "id": "7e9d6a70",
   "metadata": {},
   "source": [
    "# Logistic Regression"
   ]
  },
  {
   "cell_type": "code",
   "execution_count": 30,
   "id": "079cb29d",
   "metadata": {},
   "outputs": [],
   "source": [
    "logit = LogisticRegression(random_state=248)"
   ]
  },
  {
   "cell_type": "code",
   "execution_count": 31,
   "id": "599fb1e6",
   "metadata": {},
   "outputs": [
    {
     "data": {
      "text/plain": [
       "LogisticRegression(random_state=248)"
      ]
     },
     "execution_count": 31,
     "metadata": {},
     "output_type": "execute_result"
    }
   ],
   "source": [
    "logit.fit(x_train, y_train)"
   ]
  },
  {
   "cell_type": "code",
   "execution_count": 32,
   "id": "6830bae0",
   "metadata": {},
   "outputs": [],
   "source": [
    "y_pred_lr = logit.predict(x_train)"
   ]
  },
  {
   "cell_type": "markdown",
   "id": "65f4a221",
   "metadata": {},
   "source": [
    "## Train"
   ]
  },
  {
   "cell_type": "markdown",
   "id": "dc7f3034",
   "metadata": {},
   "source": [
    "**Model/Accuracy Score**: 78%<br>\n",
    "**Precision**: 81%<br>\n",
    "**Recall**: 91%<br>\n",
    "**F1 Score**: 86%"
   ]
  },
  {
   "cell_type": "code",
   "execution_count": 34,
   "id": "7d1e3232",
   "metadata": {
    "scrolled": true
   },
   "outputs": [
    {
     "name": "stdout",
     "output_type": "stream",
     "text": [
      "              precision    recall  f1-score   support\n",
      "\n",
      "           0       0.81      0.91      0.86      3122\n",
      "           1       0.61      0.40      0.48      1103\n",
      "\n",
      "    accuracy                           0.78      4225\n",
      "   macro avg       0.71      0.65      0.67      4225\n",
      "weighted avg       0.76      0.78      0.76      4225\n",
      "\n"
     ]
    }
   ],
   "source": [
    "print(classification_report(y_train, y_pred_lr))"
   ]
  },
  {
   "cell_type": "markdown",
   "id": "49064b8f",
   "metadata": {},
   "source": [
    "## Validate"
   ]
  },
  {
   "cell_type": "markdown",
   "id": "328fd7af",
   "metadata": {},
   "source": [
    "**Model/Accuracy Score**: 75%<br>\n",
    "**Precision**: 79%<br>\n",
    "**Recall**: 90%<br>\n",
    "**F1 Score**: 84%"
   ]
  },
  {
   "cell_type": "code",
   "execution_count": 35,
   "id": "72288fe1",
   "metadata": {},
   "outputs": [],
   "source": [
    "y_pred_lr_val = logit.predict(x_validate)"
   ]
  },
  {
   "cell_type": "code",
   "execution_count": 36,
   "id": "75334eca",
   "metadata": {},
   "outputs": [
    {
     "name": "stdout",
     "output_type": "stream",
     "text": [
      "              precision    recall  f1-score   support\n",
      "\n",
      "           0       0.79      0.90      0.84      1020\n",
      "           1       0.58      0.37      0.45       389\n",
      "\n",
      "    accuracy                           0.75      1409\n",
      "   macro avg       0.68      0.63      0.65      1409\n",
      "weighted avg       0.73      0.75      0.73      1409\n",
      "\n"
     ]
    }
   ],
   "source": [
    "print(classification_report(y_validate, y_pred_lr_val))"
   ]
  },
  {
   "cell_type": "markdown",
   "id": "ebdf8a9b",
   "metadata": {},
   "source": [
    "---"
   ]
  },
  {
   "cell_type": "markdown",
   "id": "bfa63a8b",
   "metadata": {},
   "source": [
    "# KNN (nearest 10)"
   ]
  },
  {
   "cell_type": "code",
   "execution_count": 37,
   "id": "05b45dd1",
   "metadata": {},
   "outputs": [],
   "source": [
    "knn = KNeighborsClassifier(n_neighbors=10, weights='uniform')\n",
    "knn = knn.fit(x_train, y_train)"
   ]
  },
  {
   "cell_type": "code",
   "execution_count": 38,
   "id": "599292ad",
   "metadata": {},
   "outputs": [],
   "source": [
    "y_predict_knn = knn.predict(x_train)"
   ]
  },
  {
   "cell_type": "code",
   "execution_count": 39,
   "id": "659a3893",
   "metadata": {},
   "outputs": [],
   "source": [
    "y_pred_prob_knn = knn.predict_proba(x_train)"
   ]
  },
  {
   "cell_type": "markdown",
   "id": "68be5357",
   "metadata": {},
   "source": [
    "## Train"
   ]
  },
  {
   "cell_type": "markdown",
   "id": "14641c34",
   "metadata": {},
   "source": [
    "**Model/Accuracy Score**: 81%<br>\n",
    "**Precision**: 83%<br>\n",
    "**Recall**: 93%<br>\n",
    "**F1 Score**: 88%"
   ]
  },
  {
   "cell_type": "code",
   "execution_count": 40,
   "id": "c5e6347e",
   "metadata": {},
   "outputs": [
    {
     "name": "stdout",
     "output_type": "stream",
     "text": [
      "              precision    recall  f1-score   support\n",
      "\n",
      "           0       0.83      0.93      0.88      3122\n",
      "           1       0.71      0.47      0.57      1103\n",
      "\n",
      "    accuracy                           0.81      4225\n",
      "   macro avg       0.77      0.70      0.72      4225\n",
      "weighted avg       0.80      0.81      0.80      4225\n",
      "\n"
     ]
    }
   ],
   "source": [
    "print(classification_report(y_train, y_predict_knn))"
   ]
  },
  {
   "cell_type": "markdown",
   "id": "d585f7de",
   "metadata": {},
   "source": [
    "## Validate"
   ]
  },
  {
   "cell_type": "markdown",
   "id": "d8859511",
   "metadata": {},
   "source": [
    "**Model/Accuracy Score**: 77%<br>\n",
    "**Precision**: 80%<br>\n",
    "**Recall**: 90%<br>\n",
    "**F1 Score**: 85%"
   ]
  },
  {
   "cell_type": "code",
   "execution_count": 41,
   "id": "afa78c4d",
   "metadata": {},
   "outputs": [],
   "source": [
    "y_predict_knn_val = knn.predict(x_validate)"
   ]
  },
  {
   "cell_type": "code",
   "execution_count": 42,
   "id": "326cb9da",
   "metadata": {},
   "outputs": [
    {
     "name": "stdout",
     "output_type": "stream",
     "text": [
      "              precision    recall  f1-score   support\n",
      "\n",
      "           0       0.80      0.90      0.85      1020\n",
      "           1       0.62      0.40      0.48       389\n",
      "\n",
      "    accuracy                           0.77      1409\n",
      "   macro avg       0.71      0.65      0.67      1409\n",
      "weighted avg       0.75      0.77      0.75      1409\n",
      "\n"
     ]
    }
   ],
   "source": [
    "print(classification_report(y_validate, y_predict_knn_val))"
   ]
  },
  {
   "cell_type": "markdown",
   "id": "7bad7dba",
   "metadata": {},
   "source": [
    "# The Overall Best Model is... Decision Tree"
   ]
  },
  {
   "cell_type": "markdown",
   "id": "d436f791",
   "metadata": {},
   "source": [
    " ### Test:\n",
    "**Model Score**: 79%<br>\n",
    "**Precision**: 81%<br>\n",
    "**Recall**: 92%<br>\n",
    "**F1 Score**: 86%"
   ]
  },
  {
   "cell_type": "code",
   "execution_count": 44,
   "id": "123146bb",
   "metadata": {},
   "outputs": [
    {
     "name": "stdout",
     "output_type": "stream",
     "text": [
      "              precision    recall  f1-score   support\n",
      "\n",
      "           0       0.81      0.92      0.86      1032\n",
      "           1       0.66      0.43      0.52       377\n",
      "\n",
      "    accuracy                           0.79      1409\n",
      "   macro avg       0.74      0.67      0.69      1409\n",
      "weighted avg       0.77      0.79      0.77      1409\n",
      "\n"
     ]
    }
   ],
   "source": [
    "y_pred_test = tree.predict(x_test)\n",
    "print(classification_report(y_test, y_pred_test))"
   ]
  },
  {
   "cell_type": "markdown",
   "id": "348fb7f2",
   "metadata": {},
   "source": [
    "<div class=\"alert alert-block alert-warning\">\n",
    "\n",
    "# Recommendations:\n",
    "    \n",
    "> **Focus efforts on offering discounted or free online security<br>\n",
    "    Same for Tech Support**"
   ]
  },
  {
   "cell_type": "markdown",
   "id": "8677a76b",
   "metadata": {},
   "source": [
    "# If I could do further analysis, I would explore tenure and age more closely"
   ]
  },
  {
   "cell_type": "markdown",
   "id": "57b9b566",
   "metadata": {},
   "source": [
    "### Those who are senior citizens are about 16% of customers, but churn twice as much as their younger counterparts\n",
    "### See more precisely in tenure to target to keep customers early on\n",
    "### Understand why those opted into paperless billing churn at high rates"
   ]
  },
  {
   "cell_type": "markdown",
   "id": "0b397ae9",
   "metadata": {},
   "source": [
    "---"
   ]
  }
 ],
 "metadata": {
  "kernelspec": {
   "display_name": "Python 3 (ipykernel)",
   "language": "python",
   "name": "python3"
  },
  "language_info": {
   "codemirror_mode": {
    "name": "ipython",
    "version": 3
   },
   "file_extension": ".py",
   "mimetype": "text/x-python",
   "name": "python",
   "nbconvert_exporter": "python",
   "pygments_lexer": "ipython3",
   "version": "3.9.12"
  }
 },
 "nbformat": 4,
 "nbformat_minor": 5
}
