{
 "cells": [
  {
   "cell_type": "markdown",
   "id": "772d1d2b",
   "metadata": {},
   "source": [
    "<img src=\"https://encrypted-tbn0.gstatic.com/images?q=tbn:ANd9GcTu8IayzMrmGKgbnT0hGkk6k7FhiK1ICbTNUA&usqp=CAU\" />"
   ]
  },
  {
   "cell_type": "code",
   "execution_count": 5,
   "id": "d9cd234d",
   "metadata": {},
   "outputs": [],
   "source": [
    "import os\n",
    "from acquire import test, grab_telco, prep_t, telco_test, split\n",
    "from env import username, password, host\n",
    "import numpy as np\n",
    "import pandas as pd\n",
    "import seaborn as sns\n",
    "import matplotlib.pyplot as plt\n",
    "import scipy.stats as stats\n",
    "\n",
    "import warnings\n",
    "warnings.filterwarnings('ignore')\n",
    "\n",
    "import sklearn.metrics as mtc\n",
    "from sklearn.metrics import classification_report, confusion_matrix, accuracy_score, recall_score, precision_score, f1_score\n",
    "from sklearn.tree import DecisionTreeClassifier, plot_tree\n",
    "from sklearn.ensemble import RandomForestClassifier\n",
    "from sklearn.neighbors import KNeighborsClassifier\n",
    "from sklearn.linear_model import LogisticRegression"
   ]
  },
  {
   "cell_type": "markdown",
   "id": "0ebd86a9",
   "metadata": {},
   "source": [
    "<div class=\"alert alert-block alert-success\">\n",
    "    \n",
    "# Business Goals\n",
    "## - Find drivers for customer churn at Telco. Why are customers churning?\n",
    "## - Construct a Machine Learning classification model that accurately predicts customer churn.\n",
    "## - Deliver a report that a non-data scientist can read through and understand what steps were taken, why and what was the outcome?"
   ]
  },
  {
   "cell_type": "markdown",
   "id": "5a9f99df",
   "metadata": {},
   "source": [
    "<div class=\"alert alert-block alert-info\">\n",
    "    \n",
    "# Initial Questions:\n",
    "### Are certain groups (age, gender, etc.) of customers unsatisfied with our service?\n",
    "\n",
    "### Do we offer products/services(internet types) that do not meet expectations?\n",
    "\n",
    "### Are we charging too much?\n",
    "\n",
    "### Do we lack customer support?\n",
    "\n",
    "### Do we need to put more focus on the types of contracts we offer for customers?"
   ]
  },
  {
   "cell_type": "markdown",
   "id": "8347b774",
   "metadata": {},
   "source": [
    "# Acquire and view the data\n",
    ">We will grab this data from the telco.csv file"
   ]
  },
  {
   "cell_type": "code",
   "execution_count": 6,
   "id": "9491facf",
   "metadata": {},
   "outputs": [
    {
     "data": {
      "text/html": [
       "<div>\n",
       "<style scoped>\n",
       "    .dataframe tbody tr th:only-of-type {\n",
       "        vertical-align: middle;\n",
       "    }\n",
       "\n",
       "    .dataframe tbody tr th {\n",
       "        vertical-align: top;\n",
       "    }\n",
       "\n",
       "    .dataframe thead th {\n",
       "        text-align: right;\n",
       "    }\n",
       "</style>\n",
       "<table border=\"1\" class=\"dataframe\">\n",
       "  <thead>\n",
       "    <tr style=\"text-align: right;\">\n",
       "      <th></th>\n",
       "      <th>Unnamed: 0</th>\n",
       "      <th>customer_id</th>\n",
       "      <th>gender</th>\n",
       "      <th>senior_citizen</th>\n",
       "      <th>partner</th>\n",
       "      <th>dependents</th>\n",
       "      <th>tenure</th>\n",
       "      <th>phone_service</th>\n",
       "      <th>multiple_lines</th>\n",
       "      <th>internet_service_type_id</th>\n",
       "      <th>...</th>\n",
       "      <th>device_protection</th>\n",
       "      <th>tech_support</th>\n",
       "      <th>streaming_tv</th>\n",
       "      <th>streaming_movies</th>\n",
       "      <th>contract_type_id</th>\n",
       "      <th>paperless_billing</th>\n",
       "      <th>payment_type_id</th>\n",
       "      <th>monthly_charges</th>\n",
       "      <th>total_charges</th>\n",
       "      <th>churn</th>\n",
       "    </tr>\n",
       "  </thead>\n",
       "  <tbody>\n",
       "    <tr>\n",
       "      <th>0</th>\n",
       "      <td>0</td>\n",
       "      <td>0002-ORFBO</td>\n",
       "      <td>Female</td>\n",
       "      <td>0</td>\n",
       "      <td>Yes</td>\n",
       "      <td>Yes</td>\n",
       "      <td>9</td>\n",
       "      <td>Yes</td>\n",
       "      <td>No</td>\n",
       "      <td>1</td>\n",
       "      <td>...</td>\n",
       "      <td>No</td>\n",
       "      <td>Yes</td>\n",
       "      <td>Yes</td>\n",
       "      <td>No</td>\n",
       "      <td>2</td>\n",
       "      <td>Yes</td>\n",
       "      <td>2</td>\n",
       "      <td>65.6</td>\n",
       "      <td>593.3</td>\n",
       "      <td>No</td>\n",
       "    </tr>\n",
       "    <tr>\n",
       "      <th>1</th>\n",
       "      <td>1</td>\n",
       "      <td>0003-MKNFE</td>\n",
       "      <td>Male</td>\n",
       "      <td>0</td>\n",
       "      <td>No</td>\n",
       "      <td>No</td>\n",
       "      <td>9</td>\n",
       "      <td>Yes</td>\n",
       "      <td>Yes</td>\n",
       "      <td>1</td>\n",
       "      <td>...</td>\n",
       "      <td>No</td>\n",
       "      <td>No</td>\n",
       "      <td>No</td>\n",
       "      <td>Yes</td>\n",
       "      <td>1</td>\n",
       "      <td>No</td>\n",
       "      <td>2</td>\n",
       "      <td>59.9</td>\n",
       "      <td>542.4</td>\n",
       "      <td>No</td>\n",
       "    </tr>\n",
       "    <tr>\n",
       "      <th>2</th>\n",
       "      <td>2</td>\n",
       "      <td>0004-TLHLJ</td>\n",
       "      <td>Male</td>\n",
       "      <td>0</td>\n",
       "      <td>No</td>\n",
       "      <td>No</td>\n",
       "      <td>4</td>\n",
       "      <td>Yes</td>\n",
       "      <td>No</td>\n",
       "      <td>2</td>\n",
       "      <td>...</td>\n",
       "      <td>Yes</td>\n",
       "      <td>No</td>\n",
       "      <td>No</td>\n",
       "      <td>No</td>\n",
       "      <td>1</td>\n",
       "      <td>Yes</td>\n",
       "      <td>1</td>\n",
       "      <td>73.9</td>\n",
       "      <td>280.85</td>\n",
       "      <td>Yes</td>\n",
       "    </tr>\n",
       "    <tr>\n",
       "      <th>3</th>\n",
       "      <td>3</td>\n",
       "      <td>0011-IGKFF</td>\n",
       "      <td>Male</td>\n",
       "      <td>1</td>\n",
       "      <td>Yes</td>\n",
       "      <td>No</td>\n",
       "      <td>13</td>\n",
       "      <td>Yes</td>\n",
       "      <td>No</td>\n",
       "      <td>2</td>\n",
       "      <td>...</td>\n",
       "      <td>Yes</td>\n",
       "      <td>No</td>\n",
       "      <td>Yes</td>\n",
       "      <td>Yes</td>\n",
       "      <td>1</td>\n",
       "      <td>Yes</td>\n",
       "      <td>1</td>\n",
       "      <td>98.0</td>\n",
       "      <td>1237.85</td>\n",
       "      <td>Yes</td>\n",
       "    </tr>\n",
       "    <tr>\n",
       "      <th>4</th>\n",
       "      <td>4</td>\n",
       "      <td>0013-EXCHZ</td>\n",
       "      <td>Female</td>\n",
       "      <td>1</td>\n",
       "      <td>Yes</td>\n",
       "      <td>No</td>\n",
       "      <td>3</td>\n",
       "      <td>Yes</td>\n",
       "      <td>No</td>\n",
       "      <td>2</td>\n",
       "      <td>...</td>\n",
       "      <td>No</td>\n",
       "      <td>Yes</td>\n",
       "      <td>Yes</td>\n",
       "      <td>No</td>\n",
       "      <td>1</td>\n",
       "      <td>Yes</td>\n",
       "      <td>2</td>\n",
       "      <td>83.9</td>\n",
       "      <td>267.4</td>\n",
       "      <td>Yes</td>\n",
       "    </tr>\n",
       "  </tbody>\n",
       "</table>\n",
       "<p>5 rows × 22 columns</p>\n",
       "</div>"
      ],
      "text/plain": [
       "   Unnamed: 0 customer_id  gender  senior_citizen partner dependents  tenure  \\\n",
       "0           0  0002-ORFBO  Female               0     Yes        Yes       9   \n",
       "1           1  0003-MKNFE    Male               0      No         No       9   \n",
       "2           2  0004-TLHLJ    Male               0      No         No       4   \n",
       "3           3  0011-IGKFF    Male               1     Yes         No      13   \n",
       "4           4  0013-EXCHZ  Female               1     Yes         No       3   \n",
       "\n",
       "  phone_service multiple_lines  internet_service_type_id  ...  \\\n",
       "0           Yes             No                         1  ...   \n",
       "1           Yes            Yes                         1  ...   \n",
       "2           Yes             No                         2  ...   \n",
       "3           Yes             No                         2  ...   \n",
       "4           Yes             No                         2  ...   \n",
       "\n",
       "  device_protection tech_support streaming_tv streaming_movies  \\\n",
       "0                No          Yes          Yes               No   \n",
       "1                No           No           No              Yes   \n",
       "2               Yes           No           No               No   \n",
       "3               Yes           No          Yes              Yes   \n",
       "4                No          Yes          Yes               No   \n",
       "\n",
       "  contract_type_id paperless_billing  payment_type_id monthly_charges  \\\n",
       "0                2               Yes                2            65.6   \n",
       "1                1                No                2            59.9   \n",
       "2                1               Yes                1            73.9   \n",
       "3                1               Yes                1            98.0   \n",
       "4                1               Yes                2            83.9   \n",
       "\n",
       "   total_charges  churn  \n",
       "0          593.3     No  \n",
       "1          542.4     No  \n",
       "2         280.85    Yes  \n",
       "3        1237.85    Yes  \n",
       "4          267.4    Yes  \n",
       "\n",
       "[5 rows x 22 columns]"
      ]
     },
     "execution_count": 6,
     "metadata": {},
     "output_type": "execute_result"
    }
   ],
   "source": [
    "telco = grab_telco()\n",
    "telco.head()"
   ]
  },
  {
   "cell_type": "markdown",
   "id": "3fc8e1e4",
   "metadata": {},
   "source": [
    "# Look at the column(feature) Dtypes and check for cells with no values (nulls)"
   ]
  },
  {
   "cell_type": "code",
   "execution_count": 7,
   "id": "4e66f696",
   "metadata": {
    "scrolled": true
   },
   "outputs": [
    {
     "name": "stdout",
     "output_type": "stream",
     "text": [
      "<class 'pandas.core.frame.DataFrame'>\n",
      "RangeIndex: 7043 entries, 0 to 7042\n",
      "Data columns (total 22 columns):\n",
      " #   Column                    Non-Null Count  Dtype  \n",
      "---  ------                    --------------  -----  \n",
      " 0   Unnamed: 0                7043 non-null   int64  \n",
      " 1   customer_id               7043 non-null   object \n",
      " 2   gender                    7043 non-null   object \n",
      " 3   senior_citizen            7043 non-null   int64  \n",
      " 4   partner                   7043 non-null   object \n",
      " 5   dependents                7043 non-null   object \n",
      " 6   tenure                    7043 non-null   int64  \n",
      " 7   phone_service             7043 non-null   object \n",
      " 8   multiple_lines            7043 non-null   object \n",
      " 9   internet_service_type_id  7043 non-null   int64  \n",
      " 10  online_security           7043 non-null   object \n",
      " 11  online_backup             7043 non-null   object \n",
      " 12  device_protection         7043 non-null   object \n",
      " 13  tech_support              7043 non-null   object \n",
      " 14  streaming_tv              7043 non-null   object \n",
      " 15  streaming_movies          7043 non-null   object \n",
      " 16  contract_type_id          7043 non-null   int64  \n",
      " 17  paperless_billing         7043 non-null   object \n",
      " 18  payment_type_id           7043 non-null   int64  \n",
      " 19  monthly_charges           7043 non-null   float64\n",
      " 20  total_charges             7043 non-null   object \n",
      " 21  churn                     7043 non-null   object \n",
      "dtypes: float64(1), int64(6), object(15)\n",
      "memory usage: 1.2+ MB\n"
     ]
    }
   ],
   "source": [
    "telco.info()"
   ]
  },
  {
   "cell_type": "markdown",
   "id": "1b639395",
   "metadata": {},
   "source": [
    "---"
   ]
  },
  {
   "cell_type": "markdown",
   "id": "917bb2dd",
   "metadata": {},
   "source": [
    "# Prep the data\n",
    ">**Create dummy variables for modeling purposes<br>\n",
    "(1: 'Yes', 0: 'No')**"
   ]
  },
  {
   "cell_type": "code",
   "execution_count": 8,
   "id": "12a10246",
   "metadata": {},
   "outputs": [],
   "source": [
    "telco = prep_t(telco)"
   ]
  },
  {
   "cell_type": "code",
   "execution_count": 9,
   "id": "5cc02921",
   "metadata": {
    "scrolled": true
   },
   "outputs": [
    {
     "data": {
      "text/html": [
       "<div>\n",
       "<style scoped>\n",
       "    .dataframe tbody tr th:only-of-type {\n",
       "        vertical-align: middle;\n",
       "    }\n",
       "\n",
       "    .dataframe tbody tr th {\n",
       "        vertical-align: top;\n",
       "    }\n",
       "\n",
       "    .dataframe thead th {\n",
       "        text-align: right;\n",
       "    }\n",
       "</style>\n",
       "<table border=\"1\" class=\"dataframe\">\n",
       "  <thead>\n",
       "    <tr style=\"text-align: right;\">\n",
       "      <th></th>\n",
       "      <th>customer_id</th>\n",
       "      <th>senior_citizen</th>\n",
       "      <th>tenure</th>\n",
       "      <th>internet_service_type_id</th>\n",
       "      <th>contract_type_id</th>\n",
       "      <th>payment_type_id</th>\n",
       "      <th>monthly_charges</th>\n",
       "      <th>total_charges</th>\n",
       "      <th>streaming_tv_Yes</th>\n",
       "      <th>streaming_movies_Yes</th>\n",
       "      <th>...</th>\n",
       "      <th>churn_Yes</th>\n",
       "      <th>gender_Male</th>\n",
       "      <th>partner_Yes</th>\n",
       "      <th>dependents_Yes</th>\n",
       "      <th>phone_service_Yes</th>\n",
       "      <th>online_backup_Yes</th>\n",
       "      <th>device_protection_Yes</th>\n",
       "      <th>tech_support_Yes</th>\n",
       "      <th>online_security_Yes</th>\n",
       "      <th>multiple_lines_Yes</th>\n",
       "    </tr>\n",
       "  </thead>\n",
       "  <tbody>\n",
       "    <tr>\n",
       "      <th>0</th>\n",
       "      <td>0002-ORFBO</td>\n",
       "      <td>0</td>\n",
       "      <td>9</td>\n",
       "      <td>1</td>\n",
       "      <td>2</td>\n",
       "      <td>2</td>\n",
       "      <td>65.6</td>\n",
       "      <td>593.3</td>\n",
       "      <td>1</td>\n",
       "      <td>0</td>\n",
       "      <td>...</td>\n",
       "      <td>0</td>\n",
       "      <td>0</td>\n",
       "      <td>1</td>\n",
       "      <td>1</td>\n",
       "      <td>1</td>\n",
       "      <td>1</td>\n",
       "      <td>0</td>\n",
       "      <td>1</td>\n",
       "      <td>0</td>\n",
       "      <td>0</td>\n",
       "    </tr>\n",
       "    <tr>\n",
       "      <th>1</th>\n",
       "      <td>0003-MKNFE</td>\n",
       "      <td>0</td>\n",
       "      <td>9</td>\n",
       "      <td>1</td>\n",
       "      <td>1</td>\n",
       "      <td>2</td>\n",
       "      <td>59.9</td>\n",
       "      <td>542.4</td>\n",
       "      <td>0</td>\n",
       "      <td>1</td>\n",
       "      <td>...</td>\n",
       "      <td>0</td>\n",
       "      <td>1</td>\n",
       "      <td>0</td>\n",
       "      <td>0</td>\n",
       "      <td>1</td>\n",
       "      <td>0</td>\n",
       "      <td>0</td>\n",
       "      <td>0</td>\n",
       "      <td>0</td>\n",
       "      <td>1</td>\n",
       "    </tr>\n",
       "    <tr>\n",
       "      <th>2</th>\n",
       "      <td>0004-TLHLJ</td>\n",
       "      <td>0</td>\n",
       "      <td>4</td>\n",
       "      <td>2</td>\n",
       "      <td>1</td>\n",
       "      <td>1</td>\n",
       "      <td>73.9</td>\n",
       "      <td>280.85</td>\n",
       "      <td>0</td>\n",
       "      <td>0</td>\n",
       "      <td>...</td>\n",
       "      <td>1</td>\n",
       "      <td>1</td>\n",
       "      <td>0</td>\n",
       "      <td>0</td>\n",
       "      <td>1</td>\n",
       "      <td>0</td>\n",
       "      <td>1</td>\n",
       "      <td>0</td>\n",
       "      <td>0</td>\n",
       "      <td>0</td>\n",
       "    </tr>\n",
       "  </tbody>\n",
       "</table>\n",
       "<p>3 rows × 21 columns</p>\n",
       "</div>"
      ],
      "text/plain": [
       "  customer_id  senior_citizen  tenure  internet_service_type_id  \\\n",
       "0  0002-ORFBO               0       9                         1   \n",
       "1  0003-MKNFE               0       9                         1   \n",
       "2  0004-TLHLJ               0       4                         2   \n",
       "\n",
       "   contract_type_id  payment_type_id  monthly_charges total_charges  \\\n",
       "0                 2                2             65.6         593.3   \n",
       "1                 1                2             59.9         542.4   \n",
       "2                 1                1             73.9        280.85   \n",
       "\n",
       "   streaming_tv_Yes  streaming_movies_Yes  ...  churn_Yes  gender_Male  \\\n",
       "0                 1                     0  ...          0            0   \n",
       "1                 0                     1  ...          0            1   \n",
       "2                 0                     0  ...          1            1   \n",
       "\n",
       "   partner_Yes  dependents_Yes  phone_service_Yes  online_backup_Yes  \\\n",
       "0            1               1                  1                  1   \n",
       "1            0               0                  1                  0   \n",
       "2            0               0                  1                  0   \n",
       "\n",
       "   device_protection_Yes  tech_support_Yes  online_security_Yes  \\\n",
       "0                      0                 1                    0   \n",
       "1                      0                 0                    0   \n",
       "2                      1                 0                    0   \n",
       "\n",
       "   multiple_lines_Yes  \n",
       "0                   0  \n",
       "1                   1  \n",
       "2                   0  \n",
       "\n",
       "[3 rows x 21 columns]"
      ]
     },
     "execution_count": 9,
     "metadata": {},
     "output_type": "execute_result"
    }
   ],
   "source": [
    "telco.head(3)"
   ]
  },
  {
   "cell_type": "markdown",
   "id": "1b94cdcf",
   "metadata": {},
   "source": [
    "---"
   ]
  },
  {
   "cell_type": "markdown",
   "id": "b53681ce",
   "metadata": {},
   "source": [
    "## Separate Customer ID and Total Charges from the data. \n",
    ">**The feature is not needed to run tests, but I'd like to still keep it.<br>\n",
    "<br>\n",
    "I do not believe Total Charges will aid in the prediction of churn based on how it is defined(the amount of charges over a customers lifetime with Telco**."
   ]
  },
  {
   "cell_type": "code",
   "execution_count": 11,
   "id": "781097f2",
   "metadata": {
    "scrolled": true
   },
   "outputs": [
    {
     "data": {
      "text/html": [
       "<div>\n",
       "<style scoped>\n",
       "    .dataframe tbody tr th:only-of-type {\n",
       "        vertical-align: middle;\n",
       "    }\n",
       "\n",
       "    .dataframe tbody tr th {\n",
       "        vertical-align: top;\n",
       "    }\n",
       "\n",
       "    .dataframe thead th {\n",
       "        text-align: right;\n",
       "    }\n",
       "</style>\n",
       "<table border=\"1\" class=\"dataframe\">\n",
       "  <thead>\n",
       "    <tr style=\"text-align: right;\">\n",
       "      <th></th>\n",
       "      <th>customer_id</th>\n",
       "      <th>total_charges</th>\n",
       "    </tr>\n",
       "  </thead>\n",
       "  <tbody>\n",
       "    <tr>\n",
       "      <th>0</th>\n",
       "      <td>0002-ORFBO</td>\n",
       "      <td>593.3</td>\n",
       "    </tr>\n",
       "    <tr>\n",
       "      <th>1</th>\n",
       "      <td>0003-MKNFE</td>\n",
       "      <td>542.4</td>\n",
       "    </tr>\n",
       "    <tr>\n",
       "      <th>2</th>\n",
       "      <td>0004-TLHLJ</td>\n",
       "      <td>280.85</td>\n",
       "    </tr>\n",
       "    <tr>\n",
       "      <th>3</th>\n",
       "      <td>0011-IGKFF</td>\n",
       "      <td>1237.85</td>\n",
       "    </tr>\n",
       "    <tr>\n",
       "      <th>4</th>\n",
       "      <td>0013-EXCHZ</td>\n",
       "      <td>267.4</td>\n",
       "    </tr>\n",
       "  </tbody>\n",
       "</table>\n",
       "</div>"
      ],
      "text/plain": [
       "  customer_id total_charges\n",
       "0  0002-ORFBO         593.3\n",
       "1  0003-MKNFE         542.4\n",
       "2  0004-TLHLJ        280.85\n",
       "3  0011-IGKFF       1237.85\n",
       "4  0013-EXCHZ         267.4"
      ]
     },
     "execution_count": 11,
     "metadata": {},
     "output_type": "execute_result"
    }
   ],
   "source": [
    "customers = telco[['customer_id', 'total_charges']]\n",
    "customers.head()"
   ]
  },
  {
   "cell_type": "markdown",
   "id": "47bf895a",
   "metadata": {},
   "source": [
    "## ... And then make sure the dataset reflects that change"
   ]
  },
  {
   "cell_type": "code",
   "execution_count": 12,
   "id": "fde8d502",
   "metadata": {
    "scrolled": true
   },
   "outputs": [
    {
     "data": {
      "text/html": [
       "<div>\n",
       "<style scoped>\n",
       "    .dataframe tbody tr th:only-of-type {\n",
       "        vertical-align: middle;\n",
       "    }\n",
       "\n",
       "    .dataframe tbody tr th {\n",
       "        vertical-align: top;\n",
       "    }\n",
       "\n",
       "    .dataframe thead th {\n",
       "        text-align: right;\n",
       "    }\n",
       "</style>\n",
       "<table border=\"1\" class=\"dataframe\">\n",
       "  <thead>\n",
       "    <tr style=\"text-align: right;\">\n",
       "      <th></th>\n",
       "      <th>customer_id</th>\n",
       "      <th>senior_citizen</th>\n",
       "      <th>tenure</th>\n",
       "      <th>internet_service_type_id</th>\n",
       "      <th>contract_type_id</th>\n",
       "      <th>payment_type_id</th>\n",
       "      <th>monthly_charges</th>\n",
       "      <th>streaming_tv_Yes</th>\n",
       "      <th>streaming_movies_Yes</th>\n",
       "      <th>paperless_billing_Yes</th>\n",
       "      <th>churn_Yes</th>\n",
       "      <th>gender_Male</th>\n",
       "      <th>partner_Yes</th>\n",
       "      <th>dependents_Yes</th>\n",
       "      <th>phone_service_Yes</th>\n",
       "      <th>online_backup_Yes</th>\n",
       "      <th>device_protection_Yes</th>\n",
       "      <th>tech_support_Yes</th>\n",
       "      <th>online_security_Yes</th>\n",
       "      <th>multiple_lines_Yes</th>\n",
       "    </tr>\n",
       "  </thead>\n",
       "  <tbody>\n",
       "    <tr>\n",
       "      <th>0</th>\n",
       "      <td>0002-ORFBO</td>\n",
       "      <td>0</td>\n",
       "      <td>9</td>\n",
       "      <td>1</td>\n",
       "      <td>2</td>\n",
       "      <td>2</td>\n",
       "      <td>65.6</td>\n",
       "      <td>1</td>\n",
       "      <td>0</td>\n",
       "      <td>1</td>\n",
       "      <td>0</td>\n",
       "      <td>0</td>\n",
       "      <td>1</td>\n",
       "      <td>1</td>\n",
       "      <td>1</td>\n",
       "      <td>1</td>\n",
       "      <td>0</td>\n",
       "      <td>1</td>\n",
       "      <td>0</td>\n",
       "      <td>0</td>\n",
       "    </tr>\n",
       "    <tr>\n",
       "      <th>1</th>\n",
       "      <td>0003-MKNFE</td>\n",
       "      <td>0</td>\n",
       "      <td>9</td>\n",
       "      <td>1</td>\n",
       "      <td>1</td>\n",
       "      <td>2</td>\n",
       "      <td>59.9</td>\n",
       "      <td>0</td>\n",
       "      <td>1</td>\n",
       "      <td>0</td>\n",
       "      <td>0</td>\n",
       "      <td>1</td>\n",
       "      <td>0</td>\n",
       "      <td>0</td>\n",
       "      <td>1</td>\n",
       "      <td>0</td>\n",
       "      <td>0</td>\n",
       "      <td>0</td>\n",
       "      <td>0</td>\n",
       "      <td>1</td>\n",
       "    </tr>\n",
       "    <tr>\n",
       "      <th>2</th>\n",
       "      <td>0004-TLHLJ</td>\n",
       "      <td>0</td>\n",
       "      <td>4</td>\n",
       "      <td>2</td>\n",
       "      <td>1</td>\n",
       "      <td>1</td>\n",
       "      <td>73.9</td>\n",
       "      <td>0</td>\n",
       "      <td>0</td>\n",
       "      <td>1</td>\n",
       "      <td>1</td>\n",
       "      <td>1</td>\n",
       "      <td>0</td>\n",
       "      <td>0</td>\n",
       "      <td>1</td>\n",
       "      <td>0</td>\n",
       "      <td>1</td>\n",
       "      <td>0</td>\n",
       "      <td>0</td>\n",
       "      <td>0</td>\n",
       "    </tr>\n",
       "    <tr>\n",
       "      <th>3</th>\n",
       "      <td>0011-IGKFF</td>\n",
       "      <td>1</td>\n",
       "      <td>13</td>\n",
       "      <td>2</td>\n",
       "      <td>1</td>\n",
       "      <td>1</td>\n",
       "      <td>98.0</td>\n",
       "      <td>1</td>\n",
       "      <td>1</td>\n",
       "      <td>1</td>\n",
       "      <td>1</td>\n",
       "      <td>1</td>\n",
       "      <td>1</td>\n",
       "      <td>0</td>\n",
       "      <td>1</td>\n",
       "      <td>1</td>\n",
       "      <td>1</td>\n",
       "      <td>0</td>\n",
       "      <td>0</td>\n",
       "      <td>0</td>\n",
       "    </tr>\n",
       "    <tr>\n",
       "      <th>4</th>\n",
       "      <td>0013-EXCHZ</td>\n",
       "      <td>1</td>\n",
       "      <td>3</td>\n",
       "      <td>2</td>\n",
       "      <td>1</td>\n",
       "      <td>2</td>\n",
       "      <td>83.9</td>\n",
       "      <td>1</td>\n",
       "      <td>0</td>\n",
       "      <td>1</td>\n",
       "      <td>1</td>\n",
       "      <td>0</td>\n",
       "      <td>1</td>\n",
       "      <td>0</td>\n",
       "      <td>1</td>\n",
       "      <td>0</td>\n",
       "      <td>0</td>\n",
       "      <td>1</td>\n",
       "      <td>0</td>\n",
       "      <td>0</td>\n",
       "    </tr>\n",
       "  </tbody>\n",
       "</table>\n",
       "</div>"
      ],
      "text/plain": [
       "  customer_id  senior_citizen  tenure  internet_service_type_id  \\\n",
       "0  0002-ORFBO               0       9                         1   \n",
       "1  0003-MKNFE               0       9                         1   \n",
       "2  0004-TLHLJ               0       4                         2   \n",
       "3  0011-IGKFF               1      13                         2   \n",
       "4  0013-EXCHZ               1       3                         2   \n",
       "\n",
       "   contract_type_id  payment_type_id  monthly_charges  streaming_tv_Yes  \\\n",
       "0                 2                2             65.6                 1   \n",
       "1                 1                2             59.9                 0   \n",
       "2                 1                1             73.9                 0   \n",
       "3                 1                1             98.0                 1   \n",
       "4                 1                2             83.9                 1   \n",
       "\n",
       "   streaming_movies_Yes  paperless_billing_Yes  churn_Yes  gender_Male  \\\n",
       "0                     0                      1          0            0   \n",
       "1                     1                      0          0            1   \n",
       "2                     0                      1          1            1   \n",
       "3                     1                      1          1            1   \n",
       "4                     0                      1          1            0   \n",
       "\n",
       "   partner_Yes  dependents_Yes  phone_service_Yes  online_backup_Yes  \\\n",
       "0            1               1                  1                  1   \n",
       "1            0               0                  1                  0   \n",
       "2            0               0                  1                  0   \n",
       "3            1               0                  1                  1   \n",
       "4            1               0                  1                  0   \n",
       "\n",
       "   device_protection_Yes  tech_support_Yes  online_security_Yes  \\\n",
       "0                      0                 1                    0   \n",
       "1                      0                 0                    0   \n",
       "2                      1                 0                    0   \n",
       "3                      1                 0                    0   \n",
       "4                      0                 1                    0   \n",
       "\n",
       "   multiple_lines_Yes  \n",
       "0                   0  \n",
       "1                   1  \n",
       "2                   0  \n",
       "3                   0  \n",
       "4                   0  "
      ]
     },
     "execution_count": 12,
     "metadata": {},
     "output_type": "execute_result"
    }
   ],
   "source": [
    "telco = telco.loc[:, telco.columns != 'total_charges']\n",
    "telco.head()"
   ]
  },
  {
   "cell_type": "markdown",
   "id": "059cd19f",
   "metadata": {},
   "source": [
    "### Now all features are numerical values"
   ]
  },
  {
   "cell_type": "markdown",
   "id": "ec1c71c3",
   "metadata": {},
   "source": [
    "## Additionally, I want to make sure I don't forget what each value represents for the categorical data:\n",
    "\n",
    "### Internet Service Type:\n",
    "> 1. DSL\n",
    "2. Fiber Optic\n",
    "3. None\n",
    "\n",
    "### Payment Type: \n",
    "> 1. Electronic check\n",
    "2. Mailed check\n",
    "3. Bank Transfer\n",
    "4. CC\n",
    "\n",
    "### Contract Type: \n",
    "> 1. Month-to-Month\n",
    "2. One-year\n",
    "3. Two-year"
   ]
  },
  {
   "cell_type": "markdown",
   "id": "4c8f000f",
   "metadata": {},
   "source": [
    "---"
   ]
  },
  {
   "cell_type": "markdown",
   "id": "cb342078",
   "metadata": {},
   "source": [
    "# Understand how the data is shaped to make sure it is properly split in Train, Validate, and Test"
   ]
  },
  {
   "cell_type": "code",
   "execution_count": 17,
   "id": "d3d3b177",
   "metadata": {
    "scrolled": false
   },
   "outputs": [
    {
     "data": {
      "text/plain": [
       "(7043, 10)"
      ]
     },
     "execution_count": 17,
     "metadata": {},
     "output_type": "execute_result"
    }
   ],
   "source": [
    "telco.shape"
   ]
  },
  {
   "cell_type": "markdown",
   "id": "0185aa8a",
   "metadata": {},
   "source": [
    "---"
   ]
  },
  {
   "cell_type": "markdown",
   "id": "d92c8671",
   "metadata": {},
   "source": [
    "# Split the data\n",
    ">**Train, Validate, and Test**"
   ]
  },
  {
   "cell_type": "code",
   "execution_count": 18,
   "id": "b09bbeae",
   "metadata": {},
   "outputs": [
    {
     "data": {
      "text/plain": [
       "((4225, 10), (1409, 10), (1409, 10))"
      ]
     },
     "execution_count": 18,
     "metadata": {},
     "output_type": "execute_result"
    }
   ],
   "source": [
    "train, validate, test = split(telco)\n",
    "train.shape, validate.shape, test.shape"
   ]
  },
  {
   "cell_type": "code",
   "execution_count": 19,
   "id": "723e8810",
   "metadata": {
    "scrolled": false
   },
   "outputs": [
    {
     "data": {
      "text/html": [
       "<div>\n",
       "<style scoped>\n",
       "    .dataframe tbody tr th:only-of-type {\n",
       "        vertical-align: middle;\n",
       "    }\n",
       "\n",
       "    .dataframe tbody tr th {\n",
       "        vertical-align: top;\n",
       "    }\n",
       "\n",
       "    .dataframe thead th {\n",
       "        text-align: right;\n",
       "    }\n",
       "</style>\n",
       "<table border=\"1\" class=\"dataframe\">\n",
       "  <thead>\n",
       "    <tr style=\"text-align: right;\">\n",
       "      <th></th>\n",
       "      <th>customer_id</th>\n",
       "      <th>internet_service_type_id</th>\n",
       "      <th>payment_type_id</th>\n",
       "      <th>tenure</th>\n",
       "      <th>paperless_billing_Yes</th>\n",
       "      <th>churn_Yes</th>\n",
       "      <th>phone_service_Yes</th>\n",
       "      <th>online_backup_Yes</th>\n",
       "      <th>tech_support_Yes</th>\n",
       "      <th>online_security_Yes</th>\n",
       "    </tr>\n",
       "  </thead>\n",
       "  <tbody>\n",
       "    <tr>\n",
       "      <th>531</th>\n",
       "      <td>0781-LKXBR</td>\n",
       "      <td>2</td>\n",
       "      <td>1</td>\n",
       "      <td>9</td>\n",
       "      <td>1</td>\n",
       "      <td>1</td>\n",
       "      <td>1</td>\n",
       "      <td>0</td>\n",
       "      <td>0</td>\n",
       "      <td>0</td>\n",
       "    </tr>\n",
       "    <tr>\n",
       "      <th>484</th>\n",
       "      <td>0707-HOVVN</td>\n",
       "      <td>1</td>\n",
       "      <td>3</td>\n",
       "      <td>70</td>\n",
       "      <td>1</td>\n",
       "      <td>0</td>\n",
       "      <td>1</td>\n",
       "      <td>1</td>\n",
       "      <td>1</td>\n",
       "      <td>0</td>\n",
       "    </tr>\n",
       "    <tr>\n",
       "      <th>4224</th>\n",
       "      <td>5960-MVTUK</td>\n",
       "      <td>1</td>\n",
       "      <td>1</td>\n",
       "      <td>3</td>\n",
       "      <td>1</td>\n",
       "      <td>0</td>\n",
       "      <td>0</td>\n",
       "      <td>0</td>\n",
       "      <td>1</td>\n",
       "      <td>0</td>\n",
       "    </tr>\n",
       "  </tbody>\n",
       "</table>\n",
       "</div>"
      ],
      "text/plain": [
       "     customer_id  internet_service_type_id  payment_type_id  tenure  \\\n",
       "531   0781-LKXBR                         2                1       9   \n",
       "484   0707-HOVVN                         1                3      70   \n",
       "4224  5960-MVTUK                         1                1       3   \n",
       "\n",
       "      paperless_billing_Yes  churn_Yes  phone_service_Yes  online_backup_Yes  \\\n",
       "531                       1          1                  1                  0   \n",
       "484                       1          0                  1                  1   \n",
       "4224                      1          0                  0                  0   \n",
       "\n",
       "      tech_support_Yes  online_security_Yes  \n",
       "531                  0                    0  \n",
       "484                  1                    0  \n",
       "4224                 1                    0  "
      ]
     },
     "execution_count": 19,
     "metadata": {},
     "output_type": "execute_result"
    }
   ],
   "source": [
    "train.head(3)"
   ]
  },
  {
   "cell_type": "markdown",
   "id": "b36f21c0",
   "metadata": {},
   "source": [
    "---"
   ]
  },
  {
   "cell_type": "markdown",
   "id": "7e57bbdf",
   "metadata": {},
   "source": [
    "# Find the Baseline\n",
    ">**Establish the baseline rate of Churn (on train)**"
   ]
  },
  {
   "cell_type": "code",
   "execution_count": 20,
   "id": "86fa2eec",
   "metadata": {
    "scrolled": true
   },
   "outputs": [
    {
     "data": {
      "text/plain": [
       "0    3122\n",
       "1    1103\n",
       "Name: churn_Yes, dtype: int64"
      ]
     },
     "execution_count": 20,
     "metadata": {},
     "output_type": "execute_result"
    }
   ],
   "source": [
    "train.churn_Yes.value_counts()"
   ]
  },
  {
   "cell_type": "code",
   "execution_count": 23,
   "id": "b197e796",
   "metadata": {
    "scrolled": true
   },
   "outputs": [
    {
     "data": {
      "text/plain": [
       "0.7389349112426036"
      ]
     },
     "execution_count": 23,
     "metadata": {},
     "output_type": "execute_result"
    }
   ],
   "source": [
    "baseline_accuracy = 3122/4225\n",
    "baseline_accuracy"
   ]
  },
  {
   "cell_type": "markdown",
   "id": "af5a21d4",
   "metadata": {},
   "source": [
    "---"
   ]
  },
  {
   "cell_type": "markdown",
   "id": "ef74e70b",
   "metadata": {},
   "source": [
    "# Run statistical tests to determine initial direction"
   ]
  },
  {
   "cell_type": "code",
   "execution_count": 56,
   "id": "794a6e3d",
   "metadata": {},
   "outputs": [
    {
     "data": {
      "image/png": "[encoded data removed]",
      "text/plain": [
       "<Figure size 432x288 with 1 Axes>"
      ]
     },
     "metadata": {
      "needs_background": "light"
     },
     "output_type": "display_data"
    },
    {
     "name": "stdout",
     "output_type": "stream",
     "text": [
      "We fail to reject that churn_Yes and customer_id are independent\n",
      "There appears to be no relationship between customer_id and churn_Yes\n",
      "None\n",
      "-------\n",
      "customer_id  0002-ORFBO  0003-MKNFE  0011-IGKFF  0013-EXCHZ  0013-MHZWF  \\\n",
      "churn_Yes                                                                 \n",
      "0                     1           1           0           0           1   \n",
      "1                     0           0           1           1           0   \n",
      "\n",
      "customer_id  0013-SMEOE  0014-BMAQU  0016-QLJIS  0017-IUDMW  0019-EFAEP  ...  \\\n",
      "churn_Yes                                                                ...   \n",
      "0                     1           1           1           1           1  ...   \n",
      "1                     0           0           0           0           0  ...   \n",
      "\n",
      "customer_id  9972-EWRJS  9972-VAFJJ  9974-JFBHQ  9978-HYCIN  9979-RGMZT  \\\n",
      "churn_Yes                                                                 \n",
      "0                     1           1           1           1           1   \n",
      "1                     0           0           0           0           0   \n",
      "\n",
      "customer_id  9986-BONCE  9992-RRAMN  9992-UJOEL  9993-LHIEB  9995-HOTOH  \n",
      "churn_Yes                                                                \n",
      "0                     0           0           1           1           1  \n",
      "1                     1           1           0           0           0  \n",
      "\n",
      "[2 rows x 4225 columns]\n",
      "-------\n",
      "(4225.0, 0.4927667069940409, 4224, array([[0.73893491, 0.73893491, 0.73893491, ..., 0.73893491, 0.73893491,\n",
      "        0.73893491],\n",
      "       [0.26106509, 0.26106509, 0.26106509, ..., 0.26106509, 0.26106509,\n",
      "        0.26106509]]))\n",
      "-------\n",
      "0781-LKXBR    1\n",
      "7008-LZVOZ    1\n",
      "7850-THJMU    1\n",
      "3280-MRDOF    1\n",
      "3716-UVSPD    1\n",
      "             ..\n",
      "1062-LHZOD    1\n",
      "6827-IEAUQ    1\n",
      "0637-UBJRP    1\n",
      "4851-BQDNX    1\n",
      "4567-AKPIA    1\n",
      "Name: customer_id, Length: 4225, dtype: int64\n",
      "0781-LKXBR    0.000237\n",
      "7008-LZVOZ    0.000237\n",
      "7850-THJMU    0.000237\n",
      "3280-MRDOF    0.000237\n",
      "3716-UVSPD    0.000237\n",
      "                ...   \n",
      "1062-LHZOD    0.000237\n",
      "6827-IEAUQ    0.000237\n",
      "0637-UBJRP    0.000237\n",
      "4851-BQDNX    0.000237\n",
      "4567-AKPIA    0.000237\n",
      "Name: customer_id, Length: 4225, dtype: float64\n"
     ]
    },
    {
     "data": {
      "image/png": "[encoded data removed]",
      "text/plain": [
       "<Figure size 432x288 with 1 Axes>"
      ]
     },
     "metadata": {
      "needs_background": "light"
     },
     "output_type": "display_data"
    },
    {
     "name": "stdout",
     "output_type": "stream",
     "text": [
      "We reject that churn_Yes and internet_service_type_id are independent\n",
      "There is a relationship between internet_service_type_id and churn_Yes\n",
      "None\n",
      "-------\n",
      "internet_service_type_id     1     2    3\n",
      "churn_Yes                                \n",
      "0                         1190  1088  844\n",
      "1                          263   764   76\n",
      "-------\n",
      "(420.39456674873696, 5.1579807793913186e-92, 2, array([[1073.67242604, 1368.50745562,  679.82011834],\n",
      "       [ 379.32757396,  483.49254438,  240.17988166]]))\n",
      "-------\n",
      "2    1852\n",
      "1    1453\n",
      "3     920\n",
      "Name: internet_service_type_id, dtype: int64\n",
      "2    0.438343\n",
      "1    0.343905\n",
      "3    0.217751\n",
      "Name: internet_service_type_id, dtype: float64\n"
     ]
    },
    {
     "data": {
      "image/png": "[encoded data removed]",
      "text/plain": [
       "<Figure size 432x288 with 1 Axes>"
      ]
     },
     "metadata": {
      "needs_background": "light"
     },
     "output_type": "display_data"
    },
    {
     "name": "stdout",
     "output_type": "stream",
     "text": [
      "We reject that churn_Yes and payment_type_id are independent\n",
      "There is a relationship between payment_type_id and churn_Yes\n",
      "None\n",
      "-------\n",
      "payment_type_id    1    2    3    4\n",
      "churn_Yes                          \n",
      "0                759  784  789  790\n",
      "1                636  188  143  136\n",
      "-------\n",
      "(416.17159044825945, 6.951899090969447e-90, 3, array([[1030.81420118,  718.24473373,  688.68733728,  684.25372781],\n",
      "       [ 364.18579882,  253.75526627,  243.31266272,  241.74627219]]))\n",
      "-------\n",
      "1    1395\n",
      "2     972\n",
      "3     932\n",
      "4     926\n",
      "Name: payment_type_id, dtype: int64\n",
      "1    0.330178\n",
      "2    0.230059\n",
      "3    0.220592\n",
      "4    0.219172\n",
      "Name: payment_type_id, dtype: float64\n"
     ]
    },
    {
     "data": {
      "image/png": "[encoded data removed]",
      "text/plain": [
       "<Figure size 432x288 with 1 Axes>"
      ]
     },
     "metadata": {
      "needs_background": "light"
     },
     "output_type": "display_data"
    },
    {
     "name": "stdout",
     "output_type": "stream",
     "text": [
      "We reject that churn_Yes and tenure are independent\n",
      "There is a relationship between tenure and churn_Yes\n",
      "None\n",
      "-------\n",
      "tenure     0    1   2   3   4   5   6   7   8   9   ...  63  64  65  66  67  \\\n",
      "churn_Yes                                           ...                       \n",
      "0           4  146  80  71  51  42  46  42  42  40  ...  42  52  30  46  53   \n",
      "1           0  232  79  65  49  43  19  26  21  27  ...   2   3   3   9   8   \n",
      "\n",
      "tenure     68  69  70   71   72  \n",
      "churn_Yes                        \n",
      "0          56  55  66  107  198  \n",
      "1           5   5   3    3    3  \n",
      "\n",
      "[2 rows x 73 columns]\n",
      "-------\n",
      "(682.1308001964724, 3.623487109299768e-100, 72, array([[  2.95573964, 279.31739645, 117.49065089, 100.49514793,\n",
      "         73.89349112,  62.80946746,  48.03076923,  50.24757396,\n",
      "         46.55289941,  49.50863905,  54.68118343,  47.29183432,\n",
      "         48.76970414,  50.98650888,  35.46887574,  45.8139645 ,\n",
      "         35.46887574,  38.42461538,  41.38035503,  27.34059172,\n",
      "         31.77420118,  32.51313609,  42.11928994,  38.42461538,\n",
      "         39.1635503 ,  35.46887574,  39.1635503 ,  29.55739645,\n",
      "         19.21230769,  30.29633136,  31.77420118,  18.47337278,\n",
      "         27.34059172,  31.03526627,  33.25207101,  38.42461538,\n",
      "         25.86272189,  29.55739645,  23.64591716,  19.21230769,\n",
      "         30.29633136,  28.81846154,  29.55739645,  25.86272189,\n",
      "         23.64591716,  28.81846154,  31.03526627,  24.38485207,\n",
      "         28.07952663,  32.51313609,  30.29633136,  31.77420118,\n",
      "         39.90248521,  36.20781065,  25.86272189,  28.81846154,\n",
      "         34.72994083,  31.77420118,  25.86272189,  28.81846154,\n",
      "         36.20781065,  33.25207101,  28.81846154,  32.51313609,\n",
      "         40.64142012,  24.38485207,  40.64142012,  45.07502959,\n",
      "         45.07502959,  44.33609467,  50.98650888,  81.28284024,\n",
      "        148.52591716],\n",
      "       [  1.04426036,  98.68260355,  41.50934911,  35.50485207,\n",
      "         26.10650888,  22.19053254,  16.96923077,  17.75242604,\n",
      "         16.44710059,  17.49136095,  19.31881657,  16.70816568,\n",
      "         17.23029586,  18.01349112,  12.53112426,  16.1860355 ,\n",
      "         12.53112426,  13.57538462,  14.61964497,   9.65940828,\n",
      "         11.22579882,  11.48686391,  14.88071006,  13.57538462,\n",
      "         13.8364497 ,  12.53112426,  13.8364497 ,  10.44260355,\n",
      "          6.78769231,  10.70366864,  11.22579882,   6.52662722,\n",
      "          9.65940828,  10.96473373,  11.74792899,  13.57538462,\n",
      "          9.13727811,  10.44260355,   8.35408284,   6.78769231,\n",
      "         10.70366864,  10.18153846,  10.44260355,   9.13727811,\n",
      "          8.35408284,  10.18153846,  10.96473373,   8.61514793,\n",
      "          9.92047337,  11.48686391,  10.70366864,  11.22579882,\n",
      "         14.09751479,  12.79218935,   9.13727811,  10.18153846,\n",
      "         12.27005917,  11.22579882,   9.13727811,  10.18153846,\n",
      "         12.79218935,  11.74792899,  10.18153846,  11.48686391,\n",
      "         14.35857988,   8.61514793,  14.35857988,  15.92497041,\n",
      "         15.92497041,  15.66390533,  18.01349112,  28.71715976,\n",
      "         52.47408284]]))\n",
      "-------\n",
      "1     378\n",
      "72    201\n",
      "2     159\n",
      "3     136\n",
      "71    110\n",
      "     ... \n",
      "38     32\n",
      "39     26\n",
      "28     26\n",
      "31     25\n",
      "0       4\n",
      "Name: tenure, Length: 73, dtype: int64\n",
      "1     0.089467\n",
      "72    0.047574\n",
      "2     0.037633\n",
      "3     0.032189\n",
      "71    0.026036\n",
      "        ...   \n",
      "38    0.007574\n",
      "39    0.006154\n",
      "28    0.006154\n",
      "31    0.005917\n",
      "0     0.000947\n",
      "Name: tenure, Length: 73, dtype: float64\n"
     ]
    },
    {
     "data": {
      "image/png": "[encoded data removed]",
      "text/plain": [
       "<Figure size 432x288 with 1 Axes>"
      ]
     },
     "metadata": {
      "needs_background": "light"
     },
     "output_type": "display_data"
    },
    {
     "name": "stdout",
     "output_type": "stream",
     "text": [
      "We reject that churn_Yes and paperless_billing_Yes are independent\n",
      "There is a relationship between paperless_billing_Yes and churn_Yes\n",
      "None\n",
      "-------\n",
      "paperless_billing_Yes     0     1\n",
      "churn_Yes                        \n",
      "0                      1467  1655\n",
      "1                       286   817\n",
      "-------\n",
      "(148.04046428468965, 4.648210834341839e-34, 1, array([[1295.35289941, 1826.64710059],\n",
      "       [ 457.64710059,  645.35289941]]))\n",
      "-------\n",
      "1    2472\n",
      "0    1753\n",
      "Name: paperless_billing_Yes, dtype: int64\n",
      "1    0.585089\n",
      "0    0.414911\n",
      "Name: paperless_billing_Yes, dtype: float64\n"
     ]
    },
    {
     "data": {
      "image/png": "[encoded data removed]",
      "text/plain": [
       "<Figure size 432x288 with 1 Axes>"
      ]
     },
     "metadata": {
      "needs_background": "light"
     },
     "output_type": "display_data"
    },
    {
     "name": "stdout",
     "output_type": "stream",
     "text": [
      "We reject that churn_Yes and churn_Yes are independent\n",
      "There is a relationship between churn_Yes and churn_Yes\n",
      "None\n",
      "-------\n",
      "churn_Yes     0     1\n",
      "churn_Yes            \n",
      "0          3122     0\n",
      "1             0  1103\n",
      "-------\n",
      "(4219.817828480165, 0.0, 1, array([[2306.9547929,  815.0452071],\n",
      "       [ 815.0452071,  287.9547929]]))\n",
      "-------\n",
      "0    3122\n",
      "1    1103\n",
      "Name: churn_Yes, dtype: int64\n",
      "0    0.738935\n",
      "1    0.261065\n",
      "Name: churn_Yes, dtype: float64\n"
     ]
    },
    {
     "data": {
      "image/png": "[encoded data removed]",
      "text/plain": [
       "<Figure size 432x288 with 1 Axes>"
      ]
     },
     "metadata": {
      "needs_background": "light"
     },
     "output_type": "display_data"
    },
    {
     "name": "stdout",
     "output_type": "stream",
     "text": [
      "We fail to reject that churn_Yes and phone_service_Yes are independent\n",
      "There appears to be no relationship between phone_service_Yes and churn_Yes\n",
      "None\n",
      "-------\n",
      "phone_service_Yes    0     1\n",
      "churn_Yes                   \n",
      "0                  313  2809\n",
      "1                   90  1013\n",
      "-------\n",
      "(3.0764929409516517, 0.07943163348259978, 1, array([[ 297.79076923, 2824.20923077],\n",
      "       [ 105.20923077,  997.79076923]]))\n",
      "-------\n",
      "1    3822\n",
      "0     403\n",
      "Name: phone_service_Yes, dtype: int64\n",
      "1    0.904615\n",
      "0    0.095385\n",
      "Name: phone_service_Yes, dtype: float64\n"
     ]
    },
    {
     "data": {
      "image/png": "[encoded data removed]",
      "text/plain": [
       "<Figure size 432x288 with 1 Axes>"
      ]
     },
     "metadata": {
      "needs_background": "light"
     },
     "output_type": "display_data"
    },
    {
     "name": "stdout",
     "output_type": "stream",
     "text": [
      "We reject that churn_Yes and online_backup_Yes are independent\n",
      "There is a relationship between online_backup_Yes and churn_Yes\n",
      "None\n",
      "-------\n",
      "online_backup_Yes     0     1\n",
      "churn_Yes                    \n",
      "0                  1957  1165\n",
      "1                   804   299\n",
      "-------\n",
      "(37.05679088359808, 1.1473828582889493e-09, 1, array([[2040.19928994, 1081.80071006],\n",
      "       [ 720.80071006,  382.19928994]]))\n",
      "-------\n",
      "0    2761\n",
      "1    1464\n",
      "Name: online_backup_Yes, dtype: int64\n",
      "0    0.653491\n",
      "1    0.346509\n",
      "Name: online_backup_Yes, dtype: float64\n"
     ]
    },
    {
     "data": {
      "image/png": "[encoded data removed]",
      "text/plain": [
       "<Figure size 432x288 with 1 Axes>"
      ]
     },
     "metadata": {
      "needs_background": "light"
     },
     "output_type": "display_data"
    },
    {
     "name": "stdout",
     "output_type": "stream",
     "text": [
      "We reject that churn_Yes and tech_support_Yes are independent\n",
      "There is a relationship between tech_support_Yes and churn_Yes\n",
      "None\n",
      "-------\n",
      "tech_support_Yes     0     1\n",
      "churn_Yes                   \n",
      "0                 2071  1051\n",
      "1                  917   186\n",
      "-------\n",
      "(110.30343475198362, 8.408281328424107e-26, 1, array([[2207.93751479,  914.06248521],\n",
      "       [ 780.06248521,  322.93751479]]))\n",
      "-------\n",
      "0    2988\n",
      "1    1237\n",
      "Name: tech_support_Yes, dtype: int64\n",
      "0    0.707219\n",
      "1    0.292781\n",
      "Name: tech_support_Yes, dtype: float64\n"
     ]
    },
    {
     "data": {
      "image/png": "[encoded data removed]",
      "text/plain": [
       "<Figure size 432x288 with 1 Axes>"
      ]
     },
     "metadata": {
      "needs_background": "light"
     },
     "output_type": "display_data"
    },
    {
     "name": "stdout",
     "output_type": "stream",
     "text": [
      "We reject that churn_Yes and online_security_Yes are independent\n",
      "There is a relationship between online_security_Yes and churn_Yes\n",
      "None\n",
      "-------\n",
      "online_security_Yes     0     1\n",
      "churn_Yes                      \n",
      "0                    2066  1056\n",
      "1                     924   179\n",
      "-------\n",
      "(121.14110968945856, 3.5589563395146736e-28, 1, array([[2209.41538462,  912.58461538],\n",
      "       [ 780.58461538,  322.41538462]]))\n",
      "-------\n",
      "0    2990\n",
      "1    1235\n",
      "Name: online_security_Yes, dtype: int64\n",
      "0    0.707692\n",
      "1    0.292308\n",
      "Name: online_security_Yes, dtype: float64\n"
     ]
    }
   ],
   "source": [
    "telco_test(train)"
   ]
  },
  {
   "cell_type": "markdown",
   "id": "3381099c",
   "metadata": {},
   "source": [
    "<div class=\"alert alert-block alert-success\">\n",
    "    \n",
    "## For now, I want to focus on:\n",
    "**Internet Service Type:**<br>\n",
    "> Fiber Optic reprsents almost half of customers, yet churn at over twice the rate of other internet types.<br>\n",
    "\n",
    "**Online Backup:**<br>\n",
    "> The population without online back is twice as large as those who do, yet churn 10% more.\n",
    "\n",
    "**Device Protection:**<br>\n",
    "> 2/3 of customer don't have device protection and churn more often that those who do, it could be beneficial to target them.\n",
    "\n",
    "**Tech Support:**<br>\n",
    "> Almost 3/4 of customers don't utilize Tech Support and churn twice as often as those who do\n",
    "\n",
    "**Online Security:**<br>\n",
    "> Over 70% of customer do not have Online security yet churn twice as fast as those who do.\n",
    "\n",
    "**Payment Type:**\n",
    "> Electronic Check payments churn at almost 2.5x the rate of any other payment method and represent a third of all customers.\n",
    "    \n",
    "**Age:**<br>\n",
    "> Senior Citizens are twice as likely to churn than their younger counter parts.\n",
    "\n",
    "**Tenure:**<br>\n",
    "> It's clear that long-term customers are less and less likely to churn over time.\n",
    "\n"
   ]
  },
  {
   "cell_type": "markdown",
   "id": "8978841f",
   "metadata": {},
   "source": [
    "### I chose these features based on the statistical relationship coupled with the proportion of each features 'Yes' or 'No'\n",
    "### I decided against using the rest of the features due to either lack of relationship or other factors that cannot be controlled\n",
    "> **Example**: Dependents, those with no dependents churn at twice the rate of those who do have dependents, but that does not indicate the reason thye do so."
   ]
  },
  {
   "cell_type": "markdown",
   "id": "e304005f",
   "metadata": {},
   "source": [
    "# Focus on those features"
   ]
  },
  {
   "cell_type": "code",
   "execution_count": 14,
   "id": "f109d1a2",
   "metadata": {
    "scrolled": true
   },
   "outputs": [
    {
     "data": {
      "text/html": [
       "<div>\n",
       "<style scoped>\n",
       "    .dataframe tbody tr th:only-of-type {\n",
       "        vertical-align: middle;\n",
       "    }\n",
       "\n",
       "    .dataframe tbody tr th {\n",
       "        vertical-align: top;\n",
       "    }\n",
       "\n",
       "    .dataframe thead th {\n",
       "        text-align: right;\n",
       "    }\n",
       "</style>\n",
       "<table border=\"1\" class=\"dataframe\">\n",
       "  <thead>\n",
       "    <tr style=\"text-align: right;\">\n",
       "      <th></th>\n",
       "      <th>customer_id</th>\n",
       "      <th>internet_service_type_id</th>\n",
       "      <th>payment_type_id</th>\n",
       "      <th>tenure</th>\n",
       "      <th>paperless_billing_Yes</th>\n",
       "      <th>churn_Yes</th>\n",
       "      <th>phone_service_Yes</th>\n",
       "      <th>online_backup_Yes</th>\n",
       "      <th>tech_support_Yes</th>\n",
       "      <th>online_security_Yes</th>\n",
       "    </tr>\n",
       "  </thead>\n",
       "  <tbody>\n",
       "    <tr>\n",
       "      <th>0</th>\n",
       "      <td>0002-ORFBO</td>\n",
       "      <td>1</td>\n",
       "      <td>2</td>\n",
       "      <td>9</td>\n",
       "      <td>1</td>\n",
       "      <td>0</td>\n",
       "      <td>1</td>\n",
       "      <td>1</td>\n",
       "      <td>1</td>\n",
       "      <td>0</td>\n",
       "    </tr>\n",
       "    <tr>\n",
       "      <th>1</th>\n",
       "      <td>0003-MKNFE</td>\n",
       "      <td>1</td>\n",
       "      <td>2</td>\n",
       "      <td>9</td>\n",
       "      <td>0</td>\n",
       "      <td>0</td>\n",
       "      <td>1</td>\n",
       "      <td>0</td>\n",
       "      <td>0</td>\n",
       "      <td>0</td>\n",
       "    </tr>\n",
       "    <tr>\n",
       "      <th>2</th>\n",
       "      <td>0004-TLHLJ</td>\n",
       "      <td>2</td>\n",
       "      <td>1</td>\n",
       "      <td>4</td>\n",
       "      <td>1</td>\n",
       "      <td>1</td>\n",
       "      <td>1</td>\n",
       "      <td>0</td>\n",
       "      <td>0</td>\n",
       "      <td>0</td>\n",
       "    </tr>\n",
       "  </tbody>\n",
       "</table>\n",
       "</div>"
      ],
      "text/plain": [
       "  customer_id  internet_service_type_id  payment_type_id  tenure  \\\n",
       "0  0002-ORFBO                         1                2       9   \n",
       "1  0003-MKNFE                         1                2       9   \n",
       "2  0004-TLHLJ                         2                1       4   \n",
       "\n",
       "   paperless_billing_Yes  churn_Yes  phone_service_Yes  online_backup_Yes  \\\n",
       "0                      1          0                  1                  1   \n",
       "1                      0          0                  1                  0   \n",
       "2                      1          1                  1                  0   \n",
       "\n",
       "   tech_support_Yes  online_security_Yes  \n",
       "0                 1                    0  \n",
       "1                 0                    0  \n",
       "2                 0                    0  "
      ]
     },
     "execution_count": 14,
     "metadata": {},
     "output_type": "execute_result"
    }
   ],
   "source": [
    "train = train[['customer_id', \n",
    "               'internet_service_type_id',\n",
    "               'payment_type_id',\n",
    "               'tenure',\n",
    "               'paperless_billing_Yes',\n",
    "               'churn_Yes',\n",
    "               'phone_service_Yes',\n",
    "               'online_backup_Yes',\n",
    "               'tech_support_Yes',\n",
    "               'online_security_Yes']\n",
    "             ]\n",
    "\n",
    "validate = validate[['customer_id', \n",
    "               'internet_service_type_id',\n",
    "               'payment_type_id',\n",
    "               'tenure',\n",
    "               'paperless_billing_Yes',\n",
    "               'churn_Yes',\n",
    "               'phone_service_Yes',\n",
    "               'online_backup_Yes',\n",
    "               'tech_support_Yes',\n",
    "               'online_security_Yes']\n",
    "             ]\n",
    "\n",
    "test = test[['customer_id', \n",
    "               'internet_service_type_id',\n",
    "               'payment_type_id',\n",
    "               'tenure',\n",
    "               'paperless_billing_Yes',\n",
    "               'churn_Yes',\n",
    "               'phone_service_Yes',\n",
    "               'online_backup_Yes',\n",
    "               'tech_support_Yes',\n",
    "               'online_security_Yes']\n",
    "             ]"
   ]
  },
  {
   "cell_type": "markdown",
   "id": "22ca14d5",
   "metadata": {},
   "source": [
    "# Set the X,Y Train\n",
    ">**Dropping churn from x train<br>\n",
    "Additionally, Customer ID needs to be separated before models are made**"
   ]
  },
  {
   "cell_type": "code",
   "execution_count": 24,
   "id": "b5b95610",
   "metadata": {},
   "outputs": [],
   "source": [
    "x_train = train.drop(columns=['churn_Yes', 'customer_id'])\n",
    "y_train = train.churn_Yes\n",
    "train_id = train.customer_id\n",
    "\n",
    "x_validate = validate.drop(columns=['churn_Yes', 'customer_id'])\n",
    "y_validate = validate.churn_Yes\n",
    "validate_id = validate.customer_id\n",
    "\n",
    "x_test = test.drop(columns=['churn_Yes', 'customer_id'])\n",
    "y_test = test.churn_Yes\n",
    "test_id = test.customer_id"
   ]
  },
  {
   "cell_type": "markdown",
   "id": "33f1fa11",
   "metadata": {},
   "source": [
    "---"
   ]
  },
  {
   "cell_type": "markdown",
   "id": "0d2b2573",
   "metadata": {},
   "source": [
    "# Best 3 Models Discovered"
   ]
  },
  {
   "cell_type": "markdown",
   "id": "c7d1311b",
   "metadata": {},
   "source": [
    ">### Decision Tree (max_depth=3)<br>\n",
    ">### KNN (nearest 10)<br>\n",
    ">### Logistic Regression"
   ]
  },
  {
   "cell_type": "markdown",
   "id": "4b9f7f0b",
   "metadata": {},
   "source": [
    "# Decision Tree\n",
    "### I used a low depth to avoid overfitting"
   ]
  },
  {
   "cell_type": "code",
   "execution_count": 25,
   "id": "86cfa58c",
   "metadata": {},
   "outputs": [],
   "source": [
    "tree = DecisionTreeClassifier(max_depth=3)"
   ]
  },
  {
   "cell_type": "code",
   "execution_count": 26,
   "id": "04f3f2b9",
   "metadata": {},
   "outputs": [],
   "source": [
    "tree = tree.fit(x_train, y_train)\n",
    "y_predict = tree.predict(x_train)\n",
    "y_pred_prob = tree.predict_proba(x_train)"
   ]
  },
  {
   "cell_type": "code",
   "execution_count": 27,
   "id": "8803e096",
   "metadata": {},
   "outputs": [],
   "source": [
    "cm = pd.DataFrame(confusion_matrix(y_train, y_predict))"
   ]
  },
  {
   "cell_type": "markdown",
   "id": "8a00be08",
   "metadata": {},
   "source": [
    "## Train\n",
    "**Model Score**: 79.67% <br>\n",
    "**Precision**: 82%<br>\n",
    "**Recall**: 93% <br>\n",
    "**F1 Score**: 87%"
   ]
  },
  {
   "cell_type": "code",
   "execution_count": 28,
   "id": "c7876775",
   "metadata": {},
   "outputs": [
    {
     "name": "stdout",
     "output_type": "stream",
     "text": [
      "              precision    recall  f1-score   support\n",
      "\n",
      "           0       0.82      0.93      0.87      3122\n",
      "           1       0.68      0.41      0.51      1103\n",
      "\n",
      "    accuracy                           0.80      4225\n",
      "   macro avg       0.75      0.67      0.69      4225\n",
      "weighted avg       0.78      0.80      0.78      4225\n",
      "\n"
     ]
    }
   ],
   "source": [
    "print(classification_report(y_train, y_predict))"
   ]
  },
  {
   "cell_type": "markdown",
   "id": "5b871778",
   "metadata": {},
   "source": [
    "## Validate\n",
    "**Model Score**: 77.50%<br>\n",
    "**Precision**: 80%<br>\n",
    "**Recall**: 93%<br>\n",
    "**F1 Score**: 86%"
   ]
  },
  {
   "cell_type": "code",
   "execution_count": 29,
   "id": "4903d724",
   "metadata": {
    "scrolled": true
   },
   "outputs": [
    {
     "name": "stdout",
     "output_type": "stream",
     "text": [
      "              precision    recall  f1-score   support\n",
      "\n",
      "           0       0.80      0.93      0.86      1020\n",
      "           1       0.67      0.37      0.48       389\n",
      "\n",
      "    accuracy                           0.78      1409\n",
      "   macro avg       0.73      0.65      0.67      1409\n",
      "weighted avg       0.76      0.78      0.75      1409\n",
      "\n"
     ]
    }
   ],
   "source": [
    "y_pred_val = tree.predict(x_validate)\n",
    "print(classification_report(y_validate, y_pred_val))"
   ]
  },
  {
   "cell_type": "markdown",
   "id": "adf2500c",
   "metadata": {},
   "source": [
    "---"
   ]
  },
  {
   "cell_type": "markdown",
   "id": "7e9d6a70",
   "metadata": {},
   "source": [
    "# Logistic Regression"
   ]
  },
  {
   "cell_type": "code",
   "execution_count": 30,
   "id": "079cb29d",
   "metadata": {},
   "outputs": [],
   "source": [
    "logit = LogisticRegression(random_state=248)"
   ]
  },
  {
   "cell_type": "code",
   "execution_count": 31,
   "id": "599fb1e6",
   "metadata": {},
   "outputs": [
    {
     "data": {
      "text/plain": [
       "LogisticRegression(random_state=248)"
      ]
     },
     "execution_count": 31,
     "metadata": {},
     "output_type": "execute_result"
    }
   ],
   "source": [
    "logit.fit(x_train, y_train)"
   ]
  },
  {
   "cell_type": "code",
   "execution_count": 32,
   "id": "6830bae0",
   "metadata": {},
   "outputs": [],
   "source": [
    "y_pred_lr = logit.predict(x_train)"
   ]
  },
  {
   "cell_type": "markdown",
   "id": "65f4a221",
   "metadata": {},
   "source": [
    "## Train"
   ]
  },
  {
   "cell_type": "markdown",
   "id": "dc7f3034",
   "metadata": {},
   "source": [
    "**Model/Accuracy Score**: 78%<br>\n",
    "**Precision**: 81%<br>\n",
    "**Recall**: 91%<br>\n",
    "**F1 Score**: 86%"
   ]
  },
  {
   "cell_type": "code",
   "execution_count": 34,
   "id": "7d1e3232",
   "metadata": {
    "scrolled": true
   },
   "outputs": [
    {
     "name": "stdout",
     "output_type": "stream",
     "text": [
      "              precision    recall  f1-score   support\n",
      "\n",
      "           0       0.81      0.91      0.86      3122\n",
      "           1       0.61      0.40      0.48      1103\n",
      "\n",
      "    accuracy                           0.78      4225\n",
      "   macro avg       0.71      0.65      0.67      4225\n",
      "weighted avg       0.76      0.78      0.76      4225\n",
      "\n"
     ]
    }
   ],
   "source": [
    "print(classification_report(y_train, y_pred_lr))"
   ]
  },
  {
   "cell_type": "markdown",
   "id": "49064b8f",
   "metadata": {},
   "source": [
    "## Validate"
   ]
  },
  {
   "cell_type": "markdown",
   "id": "328fd7af",
   "metadata": {},
   "source": [
    "**Model/Accuracy Score**: 75%<br>\n",
    "**Precision**: 79%<br>\n",
    "**Recall**: 90%<br>\n",
    "**F1 Score**: 84%"
   ]
  },
  {
   "cell_type": "code",
   "execution_count": 35,
   "id": "72288fe1",
   "metadata": {},
   "outputs": [],
   "source": [
    "y_pred_lr_val = logit.predict(x_validate)"
   ]
  },
  {
   "cell_type": "code",
   "execution_count": 36,
   "id": "75334eca",
   "metadata": {},
   "outputs": [
    {
     "name": "stdout",
     "output_type": "stream",
     "text": [
      "              precision    recall  f1-score   support\n",
      "\n",
      "           0       0.79      0.90      0.84      1020\n",
      "           1       0.58      0.37      0.45       389\n",
      "\n",
      "    accuracy                           0.75      1409\n",
      "   macro avg       0.68      0.63      0.65      1409\n",
      "weighted avg       0.73      0.75      0.73      1409\n",
      "\n"
     ]
    }
   ],
   "source": [
    "print(classification_report(y_validate, y_pred_lr_val))"
   ]
  },
  {
   "cell_type": "markdown",
   "id": "ebdf8a9b",
   "metadata": {},
   "source": [
    "---"
   ]
  },
  {
   "cell_type": "markdown",
   "id": "bfa63a8b",
   "metadata": {},
   "source": [
    "# KNN (nearest 10)"
   ]
  },
  {
   "cell_type": "code",
   "execution_count": 37,
   "id": "05b45dd1",
   "metadata": {},
   "outputs": [],
   "source": [
    "knn = KNeighborsClassifier(n_neighbors=10, weights='uniform')\n",
    "knn = knn.fit(x_train, y_train)"
   ]
  },
  {
   "cell_type": "code",
   "execution_count": 38,
   "id": "599292ad",
   "metadata": {},
   "outputs": [],
   "source": [
    "y_predict_knn = knn.predict(x_train)"
   ]
  },
  {
   "cell_type": "code",
   "execution_count": 39,
   "id": "659a3893",
   "metadata": {},
   "outputs": [],
   "source": [
    "y_pred_prob_knn = knn.predict_proba(x_train)"
   ]
  },
  {
   "cell_type": "markdown",
   "id": "68be5357",
   "metadata": {},
   "source": [
    "## Train"
   ]
  },
  {
   "cell_type": "markdown",
   "id": "14641c34",
   "metadata": {},
   "source": [
    "**Model/Accuracy Score**: 81%<br>\n",
    "**Precision**: 83%<br>\n",
    "**Recall**: 93%<br>\n",
    "**F1 Score**: 88%"
   ]
  },
  {
   "cell_type": "code",
   "execution_count": 40,
   "id": "c5e6347e",
   "metadata": {},
   "outputs": [
    {
     "name": "stdout",
     "output_type": "stream",
     "text": [
      "              precision    recall  f1-score   support\n",
      "\n",
      "           0       0.83      0.93      0.88      3122\n",
      "           1       0.71      0.47      0.57      1103\n",
      "\n",
      "    accuracy                           0.81      4225\n",
      "   macro avg       0.77      0.70      0.72      4225\n",
      "weighted avg       0.80      0.81      0.80      4225\n",
      "\n"
     ]
    }
   ],
   "source": [
    "print(classification_report(y_train, y_predict_knn))"
   ]
  },
  {
   "cell_type": "markdown",
   "id": "d585f7de",
   "metadata": {},
   "source": [
    "## Validate"
   ]
  },
  {
   "cell_type": "markdown",
   "id": "d8859511",
   "metadata": {},
   "source": [
    "**Model/Accuracy Score**: 77%<br>\n",
    "**Precision**: 80%<br>\n",
    "**Recall**: 90%<br>\n",
    "**F1 Score**: 85%"
   ]
  },
  {
   "cell_type": "code",
   "execution_count": 41,
   "id": "afa78c4d",
   "metadata": {},
   "outputs": [],
   "source": [
    "y_predict_knn_val = knn.predict(x_validate)"
   ]
  },
  {
   "cell_type": "code",
   "execution_count": 42,
   "id": "326cb9da",
   "metadata": {},
   "outputs": [
    {
     "name": "stdout",
     "output_type": "stream",
     "text": [
      "              precision    recall  f1-score   support\n",
      "\n",
      "           0       0.80      0.90      0.85      1020\n",
      "           1       0.62      0.40      0.48       389\n",
      "\n",
      "    accuracy                           0.77      1409\n",
      "   macro avg       0.71      0.65      0.67      1409\n",
      "weighted avg       0.75      0.77      0.75      1409\n",
      "\n"
     ]
    }
   ],
   "source": [
    "print(classification_report(y_validate, y_predict_knn_val))"
   ]
  },
  {
   "cell_type": "markdown",
   "id": "7bad7dba",
   "metadata": {},
   "source": [
    "# The Overall Best Model is... Decision Tree"
   ]
  },
  {
   "cell_type": "markdown",
   "id": "d436f791",
   "metadata": {},
   "source": [
    " ### Test:\n",
    "**Model Score**: 79%<br>\n",
    "**Precision**: 81%<br>\n",
    "**Recall**: 92%<br>\n",
    "**F1 Score**: 86%"
   ]
  },
  {
   "cell_type": "code",
   "execution_count": 44,
   "id": "123146bb",
   "metadata": {},
   "outputs": [
    {
     "name": "stdout",
     "output_type": "stream",
     "text": [
      "              precision    recall  f1-score   support\n",
      "\n",
      "           0       0.81      0.92      0.86      1032\n",
      "           1       0.66      0.43      0.52       377\n",
      "\n",
      "    accuracy                           0.79      1409\n",
      "   macro avg       0.74      0.67      0.69      1409\n",
      "weighted avg       0.77      0.79      0.77      1409\n",
      "\n"
     ]
    }
   ],
   "source": [
    "y_pred_test = tree.predict(x_test)\n",
    "print(classification_report(y_test, y_pred_test))"
   ]
  },
  {
   "cell_type": "markdown",
   "id": "348fb7f2",
   "metadata": {},
   "source": [
    "<div class=\"alert alert-block alert-warning\">\n",
    "\n",
    "# Recommendations:\n",
    "    \n",
    "> **Focus efforts on offering discounted or free online security<br>\n",
    "    Same for Tech Support**"
   ]
  },
  {
   "cell_type": "markdown",
   "id": "8677a76b",
   "metadata": {},
   "source": [
    "# If I could do further analysis, I would explore tenure and age more closely"
   ]
  },
  {
   "cell_type": "markdown",
   "id": "57b9b566",
   "metadata": {},
   "source": [
    "### Those who are senior citizens are about 16% of customers, but churn twice as much as their younger counterparts\n",
    "### See more precisely in tenure to target to keep customers early on\n",
    "### Understand why those opted into paperless billing churn at high rates"
   ]
  },
  {
   "cell_type": "markdown",
   "id": "13f118fa",
   "metadata": {},
   "source": [
    "---"
   ]
  }
 ],
 "metadata": {
  "kernelspec": {
   "display_name": "Python 3 (ipykernel)",
   "language": "python",
   "name": "python3"
  },
  "language_info": {
   "codemirror_mode": {
    "name": "ipython",
    "version": 3
   },
   "file_extension": ".py",
   "mimetype": "text/x-python",
   "name": "python",
   "nbconvert_exporter": "python",
   "pygments_lexer": "ipython3",
   "version": "3.9.12"
  }
 },
 "nbformat": 4,
 "nbformat_minor": 5
}
